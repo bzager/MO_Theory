{
 "cells": [
  {
   "cell_type": "code",
   "execution_count": 97,
   "metadata": {
    "collapsed": false
   },
   "outputs": [],
   "source": [
    "# Computational Physics Project 4 - Molecular Orbital Theory\n",
    "# Ben Zager, Zach Faber-Manning, Michael Rosen\n",
    "\n",
    "import numpy as np\n",
    "import scipy as sp\n",
    "import matplotlib.pyplot as plt\n",
    "from scipy.linalg import eigh,solve\n"
   ]
  },
  {
   "cell_type": "code",
   "execution_count": 170,
   "metadata": {
    "collapsed": false
   },
   "outputs": [
    {
     "name": "stdout",
     "output_type": "stream",
     "text": [
      "6\n"
     ]
    }
   ],
   "source": [
    "# Constants\n",
    "\n",
    "# adjacency matrix of carbons\n",
    "buta = np.array([[0,1,0,0],[1,0,1,0],[0,1,0,1],[0,0,1,0]]) # butadiene (N=4)\n",
    "benz = np.array([[0,1,0,0,0,1],[1,0,1,0,0,0],[0,1,0,1,0,0],[0,0,1,0,1,0],[0,0,0,1,0,1],[1,0,0,0,1,0]]) # benzene (N=6)\n",
    "ethy = np.array([[0,1],[1,0]]) # ethylene (N=2)\n",
    "\n",
    "adj = benz # select which molecule\n",
    "\n",
    "N = adj.shape[0] # number of carbons\n",
    "Ne = N # number of electrons\n",
    "\n",
    "a = -10; b = -1 # test values for energy\n",
    "H = a*np.identity(N) + b*adj # Hamiltonian\n"
   ]
  },
  {
   "cell_type": "code",
   "execution_count": 167,
   "metadata": {
    "collapsed": false
   },
   "outputs": [
    {
     "name": "stdout",
     "output_type": "stream",
     "text": [
      "Eigenvalues\n",
      "\n",
      "1 : a + -2.0b  [ 0.408 -0.408  0.408 -0.408  0.408 -0.408]\n",
      "2 : a + -1.0b  [ 0.577 -0.289 -0.289  0.577 -0.289 -0.289]\n",
      "3 : a + -1.0b  [ 0.   0.5 -0.5  0.   0.5 -0.5]\n",
      "4 : a + 1.0b  [ 0.  -0.5 -0.5  0.   0.5  0.5]\n",
      "5 : a + 1.0b  [ 0.577  0.289 -0.289 -0.577 -0.289  0.289]\n",
      "6 : a + 2.0b  [-0.408 -0.408 -0.408 -0.408 -0.408 -0.408]\n"
     ]
    }
   ],
   "source": [
    "# Compute eigenvalues and eigenvectors\n",
    "\n",
    "# Finds eigenvalues and eigenvectors\n",
    "# args: adjacency matrix\n",
    "# rets: tuple, (eigenvalues,eigenvectors) \n",
    "def getEigs(adj):\n",
    "    eigs = eigh(adj)\n",
    "    evals = np.around(eigs[0],4) # eigenvalues\n",
    "    evecs = np.around(eigs[1],4) # eigenvectors\n",
    "    \n",
    "    return (evals,evecs)\n",
    "\n",
    "evals,evecs = getEigs(adj)\n",
    "\n",
    "print(\"Eigenvalues\\n\")\n",
    "for i in range(N):\n",
    "    print(str(i+1)+\" : a + \"+str(np.around(evals[i],3))+\"b  \" + str(np.around(evecs[:,i],3)))\n"
   ]
  },
  {
   "cell_type": "code",
   "execution_count": 173,
   "metadata": {
    "collapsed": false
   },
   "outputs": [
    {
     "name": "stdout",
     "output_type": "stream",
     "text": [
      "[-2. -2. -1. -1. -1. -1.]\n",
      "-8.0\n"
     ]
    },
    {
     "data": {
      "image/png": "[encoded data removed]",
      "text/plain": [
       "<matplotlib.figure.Figure at 0x113943c88>"
      ]
     },
     "metadata": {},
     "output_type": "display_data"
    }
   ],
   "source": [
    "\n",
    "# Plots energy level diagram and determines electron energies\n",
    "# args: ordered list of eigenvalues, number of electrons\n",
    "# rets: list of energies for the Ne electrons\n",
    "def energyLevel(evals,Ne):\n",
    "    \n",
    "    # parameters for drawing diagram\n",
    "    mid = 0.5 # midpoint\n",
    "    width = 0.15 # width of each line\n",
    "    space = 0.05 # spacing between lines\n",
    "    arrlen = 0.5 # arrow length\n",
    "\n",
    "    # get unique list of energies\n",
    "    # returns tuple of two arrays, ([energies],[multiplicity])\n",
    "    uniq = np.unique(np.around(evals,4),return_counts=True) \n",
    "\n",
    "    energies = np.zeros(Ne) # stores energies of each electron\n",
    "    filled = 0 # keep track of how many electrons are left\n",
    "\n",
    "    for i in range(uniq[0].size): # go through each unique energy level\n",
    "        E = uniq[0][i]\n",
    "        m = uniq[1][i]\n",
    "        start = mid - 0.5*(m-1)*(width+space) # where first line is drawn (left edge)\n",
    "        turn = 1 # 1st or 2nd sweep through level\n",
    "        j = 0 # keep track of degenerate energy levels\n",
    "        while j < m:\n",
    "            xL = start + j*(width+space) - 0.5*width # set bounds for drawing line\n",
    "            xR = xL + width\n",
    "            plt.axhline(E,xmin=xL,xmax=xR)\n",
    "            if filled < Ne: \n",
    "                energies[filled] = E\n",
    "                if turn == 1:\n",
    "                    elec = 0.95*np.mean([xL,xR])\n",
    "                    plt.arrow(elec,E,0,arrlen,head_width=0.025,head_length=0.25,fc='k',ec='k')\n",
    "                    filled += 1\n",
    "                    if j == m-1:\n",
    "                        turn = 2\n",
    "                        j = 0\n",
    "                        continue\n",
    "                elif turn == 2:\n",
    "                    elec = 1.05*np.mean([xL,xR])\n",
    "                    plt.arrow(elec,E+arrlen,0,-arrlen,head_width=0.025,head_length=0.25,fc='k',ec='k')\n",
    "                    filled += 1\n",
    "            j += 1     \n",
    "    return energies\n",
    "\n",
    "\n",
    "energies = energyLevel(evals,Ne)\n",
    "print(energies)\n",
    "ETot = np.sum(energies)\n",
    "print(ETot)\n",
    "\n",
    "plt.ylabel(\"Energy\")\n",
    "plt.xlim([0,1])\n",
    "plt.ylim([np.min(evals)-1,np.max(evals)+1])\n",
    "plt.title(\"Energy Level Diagram\")\n",
    "plt.show()"
   ]
  },
  {
   "cell_type": "code",
   "execution_count": 164,
   "metadata": {
    "collapsed": false
   },
   "outputs": [
    {
     "data": {
      "image/png": "[encoded data removed]",
      "text/plain": [
       "<matplotlib.figure.Figure at 0x11291bbe0>"
      ]
     },
     "metadata": {},
     "output_type": "display_data"
    }
   ],
   "source": [
    "# Plot eigenvectors\n",
    "\n",
    "for i in range(N):\n",
    "    plt.axhline(0,color='k')\n",
    "    plt.plot(evecs[:,i],'o',label=r\"$E_\"+str(i+1)+\"$\")\n",
    "\n",
    "plt.title(\"Components of the Eigenvectors\")\n",
    "plt.legend()\n",
    "plt.show()"
   ]
  },
  {
   "cell_type": "code",
   "execution_count": 174,
   "metadata": {
    "collapsed": false
   },
   "outputs": [
    {
     "name": "stdout",
     "output_type": "stream",
     "text": [
      "2.0\n"
     ]
    }
   ],
   "source": [
    "# Delocalization energy of butadiene\n",
    "# energy difference from ground state and two isolated double bonds (compare to ethylene)\n",
    "# \n",
    "\n",
    "evals_ethy = getEigs(ethy)[0]\n",
    "E_ethy = energyLevel(evals_ethy,2)\n",
    "ETot_ethy = np.sum(E_ethy)\n",
    "\n",
    "deloc =  2*ETot_ethy - ETot\n",
    "\n",
    "print(deloc)"
   ]
  },
  {
   "cell_type": "code",
   "execution_count": null,
   "metadata": {
    "collapsed": true
   },
   "outputs": [],
   "source": [
    "# Charge density estimation \n",
    "# for single electron in orbital I, |c_Ir|^2 is probability of electron being on atom r\n",
    "\n"
   ]
  },
  {
   "cell_type": "code",
   "execution_count": null,
   "metadata": {
    "collapsed": true
   },
   "outputs": [],
   "source": [
    "# Bond order calculation\n",
    "\n"
   ]
  }
 ],
 "metadata": {
  "celltoolbar": "Raw Cell Format",
  "kernelspec": {
   "display_name": "Python 3",
   "language": "python",
   "name": "python3"
  },
  "language_info": {
   "codemirror_mode": {
    "name": "ipython",
    "version": 3
   },
   "file_extension": ".py",
   "mimetype": "text/x-python",
   "name": "python",
   "nbconvert_exporter": "python",
   "pygments_lexer": "ipython3",
   "version": "3.6.0"
  }
 },
 "nbformat": 4,
 "nbformat_minor": 2
}
