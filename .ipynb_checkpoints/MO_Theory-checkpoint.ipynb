{
 "cells": [
  {
   "cell_type": "code",
   "execution_count": 39,
   "metadata": {
    "collapsed": false
   },
   "outputs": [],
   "source": [
    "# Computational Physics Project 4 - Molecular Orbital Theory\n",
    "# Ben Zager, Zach Faber-Manning, Michael Rosen\n",
    "\n",
    "import numpy as np\n",
    "import scipy as sp\n",
    "import matplotlib.pyplot as plt\n",
    "from scipy.linalg import eigh,solve\n"
   ]
  },
  {
   "cell_type": "code",
   "execution_count": 97,
   "metadata": {
    "collapsed": false
   },
   "outputs": [
    {
     "name": "stdout",
     "output_type": "stream",
     "text": [
      "1 : a + -2.0b  [ 0.5 -0.5  0.5 -0.5]\n",
      "2 : a + 0.0b  [ 0.    -0.707  0.     0.707]\n",
      "3 : a + 0.0b  [ 0.707  0.    -0.707  0.   ]\n",
      "4 : a + 2.0b  [ 0.5  0.5  0.5  0.5]\n"
     ]
    }
   ],
   "source": [
    "# eigenvalues -> a + b*eig(adj)\n",
    "\n",
    "a = -11.2\n",
    "b = -0.7\n",
    "N = 4 # number of carbons\n",
    "Ne = 8 # number of electrons\n",
    "adj = np.array([[0,1,0,1],[1,0,1,0],[0,1,0,1],[1,0,1,0]]) # adjacency matrix of carbons\n",
    "H = a*np.identity(N) + b*adj\n",
    "\n",
    "eigs = eigh(adj)\n",
    "evals = eigs[0]\n",
    "evecs = eigs[1]\n",
    "\n",
    "energies = np.zeros(Ne)\n",
    "\n",
    "\n",
    "\n",
    "for i in range(N):\n",
    "    print(str(i+1)+\" : a + \"+str(np.around(evals[i],3))+\"b  \" + str(np.around(evecs[:,i],3)))\n"
   ]
  },
  {
   "cell_type": "code",
   "execution_count": 98,
   "metadata": {
    "collapsed": false
   },
   "outputs": [
    {
     "data": {
      "image/png": "[encoded data removed]",
      "text/plain": [
       "<matplotlib.figure.Figure at 0x10b1064e0>"
      ]
     },
     "metadata": {},
     "output_type": "display_data"
    },
    {
     "data": {
      "image/png": "[encoded data removed]",
      "text/plain": [
       "<matplotlib.figure.Figure at 0x10ae4dd68>"
      ]
     },
     "metadata": {},
     "output_type": "display_data"
    }
   ],
   "source": [
    "for i in range(eVals.size):\n",
    "    plt.axhline(evals[i]*b + a)\n",
    "    \n",
    "for i in range(N):\n",
    "    \n",
    "\n",
    "plt.title(\"Energy Level Diagram\")\n",
    "plt.show()\n",
    "\n",
    "for i in range(N):\n",
    "    plt.axhline(0,color='k')\n",
    "    plt.plot(eVecs[:,i],'o',label=str(i+1))\n",
    "\n",
    "plt.legend()\n",
    "plt.show()"
   ]
  },
  {
   "cell_type": "code",
   "execution_count": null,
   "metadata": {
    "collapsed": false
   },
   "outputs": [],
   "source": []
  },
  {
   "cell_type": "code",
   "execution_count": null,
   "metadata": {
    "collapsed": true
   },
   "outputs": [],
   "source": []
  }
 ],
 "metadata": {
  "kernelspec": {
   "display_name": "Python 3",
   "language": "python",
   "name": "python3"
  },
  "language_info": {
   "codemirror_mode": {
    "name": "ipython",
    "version": 3
   },
   "file_extension": ".py",
   "mimetype": "text/x-python",
   "name": "python",
   "nbconvert_exporter": "python",
   "pygments_lexer": "ipython3",
   "version": "3.6.0"
  }
 },
 "nbformat": 4,
 "nbformat_minor": 2
}
