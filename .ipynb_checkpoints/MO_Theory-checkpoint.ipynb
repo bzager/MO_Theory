{
 "cells": [
  {
   "cell_type": "code",
   "execution_count": 216,
   "metadata": {
    "collapsed": false
   },
   "outputs": [],
   "source": [
    "# Computational Physics Project 4 - Molecular Orbital Theory\n",
    "# Ben Zager, Zach Faber-Manning, Michael Rosen\n",
    "\n",
    "import numpy as np\n",
    "import scipy as sp\n",
    "import matplotlib.pyplot as plt\n",
    "from scipy.linalg import eigh,solve,norm\n",
    "\n",
    "np.set_printoptions(precision=3)\n"
   ]
  },
  {
   "cell_type": "code",
   "execution_count": 217,
   "metadata": {
    "collapsed": true
   },
   "outputs": [],
   "source": [
    "# import Huckel matrices (adjacency matrix of carbon chain)\n",
    "\n",
    "buta = np.loadtxt(\"butadiene.txt\")\n",
    "benz = np.loadtxt(\"benzene.txt\")\n",
    "tolu = np.loadtxt(\"toluene.txt\")\n",
    "naph = np.loadtxt(\"naphthalene.txt\")\n",
    "ethy = np.loadtxt(\"ethylene.txt\")\n",
    "buck = np.loadtxt(\"buckyball.txt\")"
   ]
  },
  {
   "cell_type": "code",
   "execution_count": 218,
   "metadata": {
    "collapsed": false
   },
   "outputs": [],
   "source": [
    "# Select molecule\n",
    "\n",
    "adj = benz\n",
    "\n",
    "N = adj.shape[0] # number of carbons\n",
    "Ne = N # number of pi electrons\n",
    "db = 3 # number of double bonds (2 for butadiene, 3 for benzene/toluene, 5 for naphthalene, 30 for buckyball)"
   ]
  },
  {
   "cell_type": "code",
   "execution_count": 219,
   "metadata": {
    "collapsed": false
   },
   "outputs": [
    {
     "name": "stdout",
     "output_type": "stream",
     "text": [
      "Eigenvalues\n",
      "\n",
      "1 : a + 2.0b  [-0.408 -0.408 -0.408 -0.408 -0.408 -0.408]\n",
      "2 : a + 1.0b  [ 0.577  0.289 -0.289 -0.577 -0.289  0.289]\n",
      "3 : a + 1.0b  [ 0.  -0.5 -0.5  0.   0.5  0.5]\n",
      "4 : a + -1.0b  [ 0.   0.5 -0.5  0.   0.5 -0.5]\n",
      "5 : a + -1.0b  [ 0.577 -0.289 -0.289  0.577 -0.289 -0.289]\n",
      "6 : a + -2.0b  [ 0.408 -0.408  0.408 -0.408  0.408 -0.408]\n"
     ]
    }
   ],
   "source": [
    "# Compute eigenvalues and eigenvectors\n",
    "\n",
    "# gram schmidt method to orthonormalize eigenvectors\n",
    "# M is a matrix with each column an eigenvector, V is new matrix\n",
    "# adapted from andreask.cs.illinois.edu/cs357-s15/public/demos/05-orthgonality/Gram-Schmidt%20and%20Modified%20Gram-Schmidt.py\n",
    "def gramSchmidt(M):\n",
    "    n = M.shape[0]\n",
    "    V = np.zeros([n,n])\n",
    "    V[:,0] = M[:,0] / norm(M[:,0])\n",
    "\n",
    "    for i in range(n):\n",
    "        q = M[:,i]\n",
    "        for j in range(i):\n",
    "            q = q - np.dot(q,V[:,j])*V[:,j]\n",
    "    \n",
    "        V[:,i] = q/norm(q)\n",
    "        \n",
    "    return V\n",
    "    \n",
    "\n",
    "# Finds eigenvalues and eigenvectors\n",
    "# args: adjacency matrix\n",
    "# rets: tuple, (eigenvalues,eigenvectors) \n",
    "def getEigs(adj):\n",
    "    eigs = eigh(adj)\n",
    "    evals = np.flip(np.around(eigs[0],4),0) # eigenvalues\n",
    "    evecs = np.flip(np.around(eigs[1],4),1) # eigenvectors\n",
    "    \n",
    "    evecs = gramSchmidt(evecs) # orthogonalize eigenvectors\n",
    "    \n",
    "    return (evals,evecs)\n",
    "\n",
    "evals,evecs = getEigs(adj)\n",
    "\n",
    "print(\"Eigenvalues\\n\")\n",
    "for i in range(N):\n",
    "    print(str(i+1)+\" : a + \"+str(np.around(evals[i],3))+\"b  \" + str(np.around(evecs[:,i],3)))\n"
   ]
  },
  {
   "cell_type": "code",
   "execution_count": 237,
   "metadata": {
    "collapsed": false,
    "scrolled": true
   },
   "outputs": [
    {
     "data": {
      "image/png": "[encoded data removed]",
      "text/plain": [
       "<matplotlib.figure.Figure at 0x112cd5ac8>"
      ]
     },
     "metadata": {},
     "output_type": "display_data"
    },
    {
     "name": "stdout",
     "output_type": "stream",
     "text": [
      "Electron energies: [-2. -2. -1. -1. -1. -1.  1.  1.  1.  1.  2.  2.  0.  0.  0.  0.  0.  0.\n",
      "  0.  0.  0.  0.  0.  0.  0.  0.  0.  0.  0.  0.  0.  0.  0.  0.  0.  0.\n",
      "  0.  0.  0.  0.  0.  0.  0.  0.  0.  0.]\n",
      "Occupation numbers: [ 2.  2.  2.  2.  2.  2.]\n",
      "Total ground state energy: 0.0b\n"
     ]
    }
   ],
   "source": [
    "# Very ugly function, try to improve\n",
    "\n",
    "# Plots energy level diagram and determines electron energies\n",
    "# args: ordered list of eigenvalues, number of electrons\n",
    "# rets: list of energies for the Ne electrons\n",
    "def energyLevel(evals,Ne,show=True):\n",
    "    \n",
    "    # parameters for drawing diagram\n",
    "    mid = 0.5 # midpoint\n",
    "    width = 0.05 # width of each line\n",
    "    space = 0.015 # spacing between lines\n",
    "    arrlen = 0.15 # arrow length\n",
    "    hw = 0.01 # width of head of arrow\n",
    "    hl = 0.1 # length of head of arrow\n",
    "\n",
    "    # get unique list of energies\n",
    "    # returns tuple of two arrays, ([energies],[multiplicity])\n",
    "    uniq = np.unique(np.around(evals,4),return_counts=True)\n",
    "\n",
    "    energies = np.zeros(Ne) # stores energies of each electron\n",
    "    occu = np.zeros(evals.size) # occupation number\n",
    "    filled = 0 # keep track of how many electrons are left\n",
    "    orb = 1 # keep track of current orbital\n",
    "    \n",
    "    for i in range(uniq[0].size): # go through each unique energy level\n",
    "        E = uniq[0][i]\n",
    "        m = uniq[1][i] # multiplicity\n",
    "        start = mid - 0.5*(m-1)*(width+space) # where first line is drawn (left edge)\n",
    "        \n",
    "        turn = 1 # 1st or 2nd sweep through level\n",
    "        j = 0 # keep track of degenerate energy levels\n",
    "        \n",
    "        while j < m:\n",
    "            xL = start + j*(width+space) - 0.5*width # set bounds for drawing line\n",
    "            xR = xL + width\n",
    "            plt.axhline(E,xmin=xL,xmax=xR) # draw horizontal line\n",
    "            if filled < Ne:\n",
    "                energies[filled] = E\n",
    "                if turn == 1:\n",
    "                    elec = np.mean([xL,xR]) - 0.25*width\n",
    "                    plt.arrow(elec,E,0,arrlen,head_width=hw,head_length=hl,fc='k',ec='k')\n",
    "                    filled += 1\n",
    "                    occu[orb-1] = 1\n",
    "                    if j == m-1:\n",
    "                        turn = 2\n",
    "                        j = 0\n",
    "                        orb -= (m-1)\n",
    "                        continue     \n",
    "                elif turn == 2:\n",
    "                    elec = np.mean([xL,xR]) + 0.25*width\n",
    "                    plt.arrow(elec,E+arrlen+hl,0,-arrlen,head_width=hw,head_length=hl,fc='k',ec='k')\n",
    "                    filled += 1\n",
    "                    occu[orb-1] = 2\n",
    "                orb += 1\n",
    "            j += 1\n",
    "    \n",
    "    plt.ylabel(\"Energy\")\n",
    "    plt.xlim([0,1])\n",
    "    plt.ylim([np.min(evals),np.max(evals)+2*hl])\n",
    "    plt.title(\"Energy Level Diagram\")\n",
    "    if show:\n",
    "        plt.show()\n",
    "        \n",
    "    return energies,occu\n",
    "\n",
    "energies,occu = energyLevel(evals,Ne)\n",
    "ETot = np.sum(energies)\n",
    "print(\"Electron energies:\",energies)\n",
    "print(\"Occupation numbers:\",occu)\n",
    "print(\"Total ground state energy:\",str(ETot)+\"b\")\n"
   ]
  },
  {
   "cell_type": "code",
   "execution_count": 238,
   "metadata": {
    "collapsed": false
   },
   "outputs": [
    {
     "data": {
      "image/png": "[encoded data removed]",
      "text/plain": [
       "<matplotlib.figure.Figure at 0x1122c9780>"
      ]
     },
     "metadata": {},
     "output_type": "display_data"
    }
   ],
   "source": [
    "# Plot eigenvectors\n",
    "\n",
    "for i in range(N):\n",
    "    plt.plot(evecs[:,i],'o',label=r\"$E_\"+str(i+1)+\"$\")\n",
    "\n",
    "plt.axhline(0,color='k')\n",
    "plt.title(\"Components of the Eigenvectors\")\n",
    "plt.legend()\n",
    "plt.show()"
   ]
  },
  {
   "cell_type": "code",
   "execution_count": 239,
   "metadata": {
    "collapsed": false
   },
   "outputs": [
    {
     "name": "stdout",
     "output_type": "stream",
     "text": [
      "-6.0b\n"
     ]
    }
   ],
   "source": [
    "# Delocalization energy\n",
    "# energy difference from ground state and isolated double bonds (compare to ethylene)\n",
    "# \n",
    "\n",
    "# determine delocalization energy, given total ground state energy and number of double bonds\n",
    "def calcDeloc(E,numDB):\n",
    "    Ne_ethy = 2\n",
    "    evals_ethy = getEigs(ethy)[0]\n",
    "    E_ethy = energyLevel(evals_ethy,Ne_ethy,show=False)[0]\n",
    "    ETot_ethy = np.sum(E_ethy)\n",
    "    deloc = numDB*ETot_ethy - ETot\n",
    "\n",
    "    return deloc\n",
    "\n",
    "deloc = calcDeloc(ETot,db)\n",
    "\n",
    "print(str(deloc)+\"b\")"
   ]
  },
  {
   "cell_type": "code",
   "execution_count": 223,
   "metadata": {
    "collapsed": false
   },
   "outputs": [
    {
     "name": "stdout",
     "output_type": "stream",
     "text": [
      "[ 1.  1.  1.  1.  1.  1.]\n"
     ]
    }
   ],
   "source": [
    "# Charge density estimation \n",
    "# for single electron in orbital I, |c_Ir|^2 is probability of electron being on atom r\n",
    "\n",
    "def chargeDensity(evecs,energies,occu):\n",
    "    q = np.zeros(N)\n",
    "        \n",
    "    for r in range(N):\n",
    "        c = evecs[r,:] # get the rth component of all eigenvectors\n",
    "        cSq = np.square(c)\n",
    "        q[r] = np.dot(cSq,occu)\n",
    "    \n",
    "    return q\n",
    "\n",
    "q = chargeDensity(evecs,energies,occu)\n",
    "\n",
    "print(q)"
   ]
  },
  {
   "cell_type": "code",
   "execution_count": 224,
   "metadata": {
    "collapsed": false
   },
   "outputs": [
    {
     "name": "stdout",
     "output_type": "stream",
     "text": [
      "[ 0.667  0.667  0.667  0.667  0.667  0.667]\n"
     ]
    }
   ],
   "source": [
    "# Bond order calculation\n",
    "# Known values:\n",
    "# Butadiene - 0.89 0.45 0.89\n",
    "# Benzene - \n",
    "# Toluene - \n",
    "# Naphthalene - \n",
    "# Buckyball - \n",
    "\n",
    "def bondOrder(adj,evecs,energies,occu):\n",
    "    adjUp = np.tril(adj) # remove redundant elements\n",
    "    r,s = np.nonzero(adjUp) # get indices of nonzero elements\n",
    "    p = np.zeros(r.size)\n",
    "    \n",
    "    for i in range(r.size):\n",
    "        cr = evecs[r[i],:]\n",
    "        cs = evecs[s[i],:]\n",
    "                \n",
    "        cPr = np.multiply(cr,cs)\n",
    "                \n",
    "        p[i] = np.dot(cPr,occu)\n",
    "    \n",
    "    return p\n",
    "    \n",
    "p = bondOrder(adj,evecs,energies,occu)\n",
    "\n",
    "print(p)"
   ]
  },
  {
   "cell_type": "code",
   "execution_count": 284,
   "metadata": {
    "collapsed": false
   },
   "outputs": [
    {
     "data": {
      "image/png": "[encoded data removed]",
      "text/plain": [
       "<matplotlib.figure.Figure at 0x112e2e7f0>"
      ]
     },
     "metadata": {},
     "output_type": "display_data"
    }
   ],
   "source": [
    "# Part B\n",
    "# Construct adjacency matrix for graphene\n",
    "\n",
    "# maps an (i,j) index from the square grid to the number of the atom at that location\n",
    "def indexFind(i,j,rows,cols):\n",
    "    i = i%cols\n",
    "    j = j%rows\n",
    "    return j*cols + i\n",
    "\n",
    "# adds connection to adjacency matrix given 2 connected carbon atoms\n",
    "def connect(n1,n2,adjMat):\n",
    "    adjMat[n1,n2] = 1\n",
    "    return\n",
    "\n",
    "def constructZigzag(rows,cols):\n",
    "    adjMat = np.zeros([rows*cols,rows*cols])\n",
    "    \n",
    "    for i in range(cols):\n",
    "        for j in range(rows):\n",
    "            cur = indexFind(i,j,rows,cols)\n",
    "            \n",
    "            connect(cur,indexFind(i+1,j,rows,cols),adjMat)\n",
    "            connect(cur,indexFind(i-1,j,rows,cols),adjMat)\n",
    "            \n",
    "            if i%2 == j%2 and j != rows-1: \n",
    "                connect(cur,indexFind(i,j+1,rows,cols),adjMat)\n",
    "            elif i%2 != j%2 and j != 0:\n",
    "                connect(cur,indexFind(i,j-1,rows,cols),adjMat)    \n",
    "    \n",
    "    return adjMat\n",
    "\n",
    "\n",
    "def constructArmchair(rows,cols):\n",
    "    adjMat = np.zeros([rows*cols,rows*cols])\n",
    "    \n",
    "    for i in range(cols):\n",
    "        for j in range(rows):\n",
    "            cur = indexFind(i,j,rows,cols)\n",
    "            \n",
    "            if i != cols-1:\n",
    "                connect(cur,indexFind(i+1,j,rows,cols),adjMat)\n",
    "            if i != 0:\n",
    "                connect(cur,indexFind(i-1,j,rows,cols),adjMat)\n",
    "         \n",
    "            if i%2 == j%2:\n",
    "                connect(cur,indexFind(i,j+1,rows,cols),adjMat)\n",
    "            else:\n",
    "                connect(cur,indexFind(i,j-1,rows,cols),adjMat)    \n",
    "        \n",
    "    return adjMat\n",
    "\n",
    "\n",
    "def constructAdj(rows,cols): \n",
    "    if rows > cols:\n",
    "        adjMat = constructZigzag(rows,cols)\n",
    "    else:\n",
    "        adjMat = constructArmchair(rows,cols)\n",
    "    return adjMat\n",
    "\n",
    "\n",
    "zig = 7  # layers of hexagons connected on flat edge\n",
    "arm = 3 # layers of hexagons connected in \"armchair\" pattern\n",
    "\n",
    "# for zigzag configuration, use arm >> zig\n",
    "# for armchair configuration, use zig >> arm\n",
    "\n",
    "# Consider square lattice from \"stretched\" hex lattice\n",
    "rows = zig+1  # number of rows in \"stretched\" square lattice\n",
    "cols = arm*2 + 1  # number of columns in \"stretched\" square lattice\n",
    "\n",
    "Nc = rows*cols # total number of carbon atoms\n",
    "Ne = Nc # total number of pi electrons\n",
    "\n",
    "graph = constructAdj(rows,cols) \n",
    "\n",
    "plt.matshow(graph)\n",
    "plt.show()"
   ]
  },
  {
   "cell_type": "code",
   "execution_count": 285,
   "metadata": {
    "collapsed": false
   },
   "outputs": [
    {
     "name": "stdout",
     "output_type": "stream",
     "text": [
      "[ 2.961  2.846  2.672  2.498  2.223  2.209  2.158  2.103  2.095  1.911\n",
      "  1.901  1.899  1.624  1.621  1.402  1.337  1.274  1.107  1.075  1.046\n",
      "  0.79   0.767  0.525  0.496  0.394  0.344  0.331  0.29   0.266 -0.057\n",
      " -0.324 -0.64  -0.663 -0.88  -0.905 -1.068 -1.161 -1.229 -1.25  -1.334\n",
      " -1.334 -1.342 -1.421 -1.47  -1.506 -1.582 -1.775 -1.851 -2.154 -2.417\n",
      " -2.43  -2.538 -2.634 -2.674 -2.759 -2.769]\n"
     ]
    },
    {
     "data": {
      "image/png": "[encoded data removed]",
      "text/plain": [
       "<matplotlib.figure.Figure at 0x112be5668>"
      ]
     },
     "metadata": {},
     "output_type": "display_data"
    }
   ],
   "source": [
    "# Calculate eigenvalues/eigenvectors of graphene\n",
    "\n",
    "evalsGraph,evecsGraph = getEigs(graph)\n",
    "print(evalsGraph)\n",
    "energies,occu = energyLevel(evalsGraph,Ne)"
   ]
  },
  {
   "cell_type": "code",
   "execution_count": 277,
   "metadata": {
    "collapsed": false
   },
   "outputs": [
    {
     "data": {
      "image/png": "[encoded data removed]",
      "text/plain": [
       "<matplotlib.figure.Figure at 0x11488a1d0>"
      ]
     },
     "metadata": {},
     "output_type": "display_data"
    }
   ],
   "source": [
    "# drawing graphene lattice\n",
    "\n",
    "# generate list of coordinates for each carbon\n",
    "def getCoords(rows,cols):\n",
    "    coords = np.zeros([rows*cols,2])\n",
    "    bl = 1 # arbitrary bond length\n",
    "    phi = np.pi / 6 # \n",
    "    dx = bl*np.cos(phi) # \n",
    "    dy = bl*np.sin(phi) # alternating increment in y direction along each row\n",
    "    \n",
    "    # for even row, initial y, y0_j = y0_j-1 - (bl + 2*dy)\n",
    "    # for odd row, initial y, y0_j = y0_j-1 - bl\n",
    "    # dy follows the pattern: \n",
    "    #     i%2 == j%2 -> +dy\n",
    "    #     i%2 != j%2 -> -dy\n",
    "    \n",
    "    for j in range(rows):\n",
    "        x = 0 # each row starts at x=0\n",
    "        y = coords[indexFind(0,j-1,rows,cols),1] - bl\n",
    "        \n",
    "        if j%2 == 0: # for evens rows, increment by extra 2*dy\n",
    "            y -= 2*dy\n",
    "                \n",
    "        for i in range(cols):\n",
    "            cur = indexFind(i,j,rows,cols)\n",
    "            coords[cur,0] = x\n",
    "            coords[cur,1] = y\n",
    "            \n",
    "            x += dx\n",
    "            if i%2 == j%2:\n",
    "                y += dy\n",
    "            else:\n",
    "                y -= dy\n",
    "\n",
    "    return coords\n",
    "\n",
    "# calculate distance between 2 atoms\n",
    "def dist(n1,n2,coords):\n",
    "    x1,y1 = coords[n1,:]\n",
    "    x2,y2 = coords[n2,:]\n",
    "    \n",
    "    return np.sqrt((x1-x2)**2 + (y1-y2)**2)\n",
    "\n",
    "# finds the coordinates of each atom connect to a given atom\n",
    "def getClosest(n,coords,adj):\n",
    "    \n",
    "    closest = coords[adj[n,:],:]    \n",
    "    \n",
    "\n",
    "coords = getCoords(rows,cols)\n",
    "\n",
    "plt.figure(figsize=(20,10))\n",
    "\n",
    "if zig < arm:\n",
    "    plt.scatter(coords[:,0],coords[:,1])\n",
    "else:\n",
    "    plt.scatter(coords[:,1],coords[:,0])\n",
    "    \n",
    "plt.axes().set_aspect('equal')\n",
    "plt.gca().get_xaxis().set_visible(False)\n",
    "plt.gca().get_yaxis().set_visible(False)\n",
    "plt.show()\n"
   ]
  },
  {
   "cell_type": "code",
   "execution_count": null,
   "metadata": {
    "collapsed": false
   },
   "outputs": [],
   "source": []
  },
  {
   "cell_type": "code",
   "execution_count": null,
   "metadata": {
    "collapsed": true
   },
   "outputs": [],
   "source": []
  }
 ],
 "metadata": {
  "kernelspec": {
   "display_name": "Python 3",
   "language": "python",
   "name": "python3"
  },
  "language_info": {
   "codemirror_mode": {
    "name": "ipython",
    "version": 3
   },
   "file_extension": ".py",
   "mimetype": "text/x-python",
   "name": "python",
   "nbconvert_exporter": "python",
   "pygments_lexer": "ipython3",
   "version": "3.6.0"
  }
 },
 "nbformat": 4,
 "nbformat_minor": 2
}
