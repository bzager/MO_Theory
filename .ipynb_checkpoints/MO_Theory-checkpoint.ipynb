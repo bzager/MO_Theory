{
 "cells": [
  {
   "cell_type": "code",
   "execution_count": 229,
   "metadata": {
    "collapsed": false
   },
   "outputs": [],
   "source": [
    "# Computational Physics Project 4 - Molecular Orbital Theory\n",
    "# Ben Zager, Zach Faber-Manning, Michael Rosen\n",
    "\n",
    "import numpy as np\n",
    "import scipy as sp\n",
    "import matplotlib.pyplot as plt\n",
    "from scipy.linalg import eigh,solve\n"
   ]
  },
  {
   "cell_type": "code",
   "execution_count": 247,
   "metadata": {
    "collapsed": false
   },
   "outputs": [],
   "source": [
    "# Constants\n",
    "\n",
    "# adjacency matrix of carbons\n",
    "buta = np.array([[0,1,0,0],[1,0,1,0],[0,1,0,1],[0,0,1,0]]) # butadiene(N=4)(2 double bonds)\n",
    "benz = np.array([[0,1,0,0,0,1],[1,0,1,0,0,0],[0,1,0,1,0,0],[0,0,1,0,1,0],[0,0,0,1,0,1],[1,0,0,0,1,0]]) #benzene(N=6)(3 double bonds)\n",
    "tolu = np.array([[0,1,0,0,0,0,0],[1,0,1,0,0,0,0],[0,1,0,1,0,0,0],[0,0,1,0,1,0,0],[0,0,0,1,0,1,0],[0,0,0,0,1,0,1],[0,1,0,0,0,1,0]])\n",
    "naph = np.array([[0,1,0,0,0,0,0,0,0,1],\n",
    "                 [1,0,1,0,0,0,0,0,0,0],\n",
    "                 [0,1,0,1,0,0,0,0,0,0],\n",
    "                 [0,0,1,0,1,0,0,0,0,0],\n",
    "                 [0,0,0,1,0,1,0,0,0,1],\n",
    "                 [0,0,0,0,1,0,1,0,0,0],\n",
    "                 [0,0,0,0,0,1,0,1,0,0],\n",
    "                 [0,0,0,0,0,0,1,0,1,0],\n",
    "                 [0,0,0,0,0,0,0,1,0,1],\n",
    "                 [1,0,0,0,1,0,0,0,1,0]])\n",
    "ethy = np.array([[0,1],[1,0]]) # ethylene (N=2)\n",
    "\n",
    "# TODO:\n",
    "#     napthalene (2 benzene rings joined together) \n",
    "#     buckyball (C_60)\n",
    "\n",
    "adj = buta # select which molecule\n",
    "\n",
    "N = adj.shape[0] # number of carbons\n",
    "Ne = N # number of electrons\n"
   ]
  },
  {
   "cell_type": "code",
   "execution_count": 248,
   "metadata": {
    "collapsed": false
   },
   "outputs": [
    {
     "name": "stdout",
     "output_type": "stream",
     "text": [
      "Eigenvalues\n",
      "\n",
      "1 : a + 1.618b  [ 0.372  0.602  0.602  0.372]\n",
      "2 : a + 0.618b  [-0.602 -0.372  0.372  0.602]\n",
      "3 : a + -0.618b  [ 0.602 -0.372 -0.372  0.602]\n",
      "4 : a + -1.618b  [ 0.372 -0.602  0.602 -0.372]\n"
     ]
    }
   ],
   "source": [
    "# Compute eigenvalues and eigenvectors\n",
    "\n",
    "# Finds eigenvalues and eigenvectors\n",
    "# args: adjacency matrix\n",
    "# rets: tuple, (eigenvalues,eigenvectors) \n",
    "def getEigs(adj):\n",
    "    eigs = eigh(adj)\n",
    "    evals = np.flip(np.around(eigs[0],4),0) # eigenvalues\n",
    "    evecs = np.flip(np.around(eigs[1],4),1) # eigenvectors\n",
    "    \n",
    "    return (evals,evecs)\n",
    "\n",
    "evals,evecs = getEigs(adj)\n",
    "\n",
    "print(\"Eigenvalues\\n\")\n",
    "for i in range(N):\n",
    "    print(str(i+1)+\" : a + \"+str(np.around(evals[i],3))+\"b  \" + str(np.around(evecs[:,i],3)))\n"
   ]
  },
  {
   "cell_type": "code",
   "execution_count": 253,
   "metadata": {
    "collapsed": false
   },
   "outputs": [
    {
     "data": {
      "image/png": "[encoded data removed]",
      "text/plain": [
       "<matplotlib.figure.Figure at 0x11011a6d8>"
      ]
     },
     "metadata": {},
     "output_type": "display_data"
    },
    {
     "name": "stdout",
     "output_type": "stream",
     "text": [
      "Electron energies: [-1.618 -1.618 -0.618 -0.618]\n",
      "Occupation numbers: [ 2.  2.  0.  0.]\n",
      "Total ground state energy: -4.472b\n"
     ]
    }
   ],
   "source": [
    "# Very ugly function, try to improve\n",
    "\n",
    "# Plots energy level diagram and determines electron energies\n",
    "# args: ordered list of eigenvalues, number of electrons\n",
    "# rets: list of energies for the Ne electrons\n",
    "def energyLevel(evals,Ne,show=True):\n",
    "    \n",
    "    # parameters for drawing diagram\n",
    "    mid = 0.5 # midpoint\n",
    "    width = 0.15 # width of each line\n",
    "    space = 0.05 # spacing between lines\n",
    "    arrlen = 0.3 # arrow length\n",
    "    hw = 0.02 # width of head of arrow\n",
    "    hl = 0.25 # length of head of arrow\n",
    "\n",
    "    # get unique list of energies\n",
    "    # returns tuple of two arrays, ([energies],[multiplicity])\n",
    "    uniq = np.unique(np.around(evals,4),return_counts=True)\n",
    "\n",
    "    energies = np.zeros(Ne) # stores energies of each electron\n",
    "    occu = np.zeros(N) # occupation number\n",
    "    filled = 0 # keep track of how many electrons are left\n",
    "    orb = 1 # keep track of current orbital\n",
    "    \n",
    "    for i in range(uniq[0].size): # go through each unique energy level\n",
    "        E = uniq[0][i]\n",
    "        m = uniq[1][i] # multiplicity\n",
    "        start = mid - 0.5*(m-1)*(width+space) # where first line is drawn (left edge)\n",
    "        \n",
    "        turn = 1 # 1st or 2nd sweep through level\n",
    "        j = 0 # keep track of degenerate energy levels\n",
    "        \n",
    "        while j < m:\n",
    "            xL = start + j*(width+space) - 0.5*width # set bounds for drawing line\n",
    "            xR = xL + width\n",
    "            plt.axhline(E,xmin=xL,xmax=xR)\n",
    "            if filled < Ne: \n",
    "                energies[filled] = E\n",
    "                if turn == 1:\n",
    "                    elec = 0.95*np.mean([xL,xR])\n",
    "                    plt.arrow(elec,E,0,arrlen,head_width=hw,head_length=hl,fc='k',ec='k')\n",
    "                    filled += 1\n",
    "                    occu[orb-1] = 1 # set occupation number to 1\n",
    "                    if j == m-1:\n",
    "                        turn = 2\n",
    "                        j = 0\n",
    "                        orb -= (m-1)\n",
    "                        continue     \n",
    "                elif turn == 2:\n",
    "                    elec = 1.05*np.mean([xL,xR])\n",
    "                    plt.arrow(elec,E+arrlen+hl,0,-arrlen,head_width=0.025,head_length=0.25,fc='k',ec='k')\n",
    "                    filled += 1\n",
    "                    occu[orb-1] = 2\n",
    "                orb += 1\n",
    "            j += 1\n",
    "    \n",
    "    plt.ylabel(\"Energy\")\n",
    "    plt.xlim([0,1])\n",
    "    plt.ylim([1.1*np.min(evals)-1,1.1*np.max(evals)+1])\n",
    "    plt.title(\"Energy Level Diagram\")\n",
    "    plt.axes().set_aspect(0.1)\n",
    "    if show:\n",
    "        plt.show()\n",
    "        \n",
    "    return energies,occu\n",
    "\n",
    "energies,occu = energyLevel(evals,Ne)\n",
    "ETot = np.sum(energies)\n",
    "print(\"Electron energies:\",energies)\n",
    "print(\"Occupation numbers:\",occu)\n",
    "print(\"Total ground state energy:\",str(ETot)+\"b\")\n"
   ]
  },
  {
   "cell_type": "code",
   "execution_count": 254,
   "metadata": {
    "collapsed": false
   },
   "outputs": [
    {
     "data": {
      "image/png": "[encoded data removed]",
      "text/plain": [
       "<matplotlib.figure.Figure at 0x1100f9ac8>"
      ]
     },
     "metadata": {},
     "output_type": "display_data"
    }
   ],
   "source": [
    "# Plot eigenvectors\n",
    "\n",
    "for i in range(N):\n",
    "    plt.plot(evecs[:,i],'o',label=r\"$E_\"+str(i+1)+\"$\")\n",
    "\n",
    "plt.axhline(0,color='k')\n",
    "plt.title(\"Components of the Eigenvectors\")\n",
    "plt.legend()\n",
    "plt.show()"
   ]
  },
  {
   "cell_type": "code",
   "execution_count": 255,
   "metadata": {
    "collapsed": false
   },
   "outputs": [
    {
     "name": "stdout",
     "output_type": "stream",
     "text": [
      "-5.528b\n"
     ]
    }
   ],
   "source": [
    "# Delocalization energy of butadiene\n",
    "# energy difference from ground state and isolated double bonds (compare to ethylene)\n",
    "# \n",
    "\n",
    "# determine delocalization energy, given total ground state energy and number of double bonds\n",
    "def calcDeloc(E,numDB):\n",
    "    Ne_ethy = 2\n",
    "    evals_ethy = getEigs(ethy)[0]\n",
    "    E_ethy = energyLevel(evals_ethy,Ne_ethy,show=False)[0]\n",
    "    ETot_ethy = np.sum(E_ethy)\n",
    "    deloc = numDB*ETot_ethy - ETot\n",
    "\n",
    "    return deloc\n",
    "\n",
    "numDB = 5 # number of double bonds (2 for butadiene, 3 for benzene, 5 for naphthalene)\n",
    "deloc = calcDeloc(ETot,numDB)\n",
    "\n",
    "print(str(deloc)+\"b\")"
   ]
  },
  {
   "cell_type": "code",
   "execution_count": 256,
   "metadata": {
    "collapsed": false
   },
   "outputs": [
    {
     "name": "stdout",
     "output_type": "stream",
     "text": [
      "[ 0.99992628  0.99992628  0.99992628  0.99992628]\n"
     ]
    }
   ],
   "source": [
    "# Charge density estimation \n",
    "# for single electron in orbital I, |c_Ir|^2 is probability of electron being on atom r\n",
    "\n",
    "def chargeDensity(evecs,energies,occu):\n",
    "    q = np.zeros(N)\n",
    "        \n",
    "    for r in range(N):\n",
    "        c = evecs[:,r] # get the rth component of eigenvector\n",
    "        cSq = np.square(c)\n",
    "        q[r] = np.dot(cSq,occu)\n",
    "    \n",
    "    return q\n",
    "\n",
    "q = chargeDensity(evecs,energies,occu)\n",
    "\n",
    "print(q)"
   ]
  },
  {
   "cell_type": "code",
   "execution_count": 262,
   "metadata": {
    "collapsed": false
   },
   "outputs": [
    {
     "name": "stdout",
     "output_type": "stream",
     "text": [
      "[ 0.22357755  0.22357755  0.22357755  0.22357755]\n",
      "[ 0.36180225  0.13816089  0.13816089  0.36180225]\n",
      "[ 0.22357755  0.22357755  0.22357755  0.22357755]\n",
      "[[ 0.          1.          2.        ]\n",
      " [ 1.          2.          3.        ]\n",
      " [ 0.8943102   0.99992628  0.8943102 ]]\n"
     ]
    }
   ],
   "source": [
    "# Bond order calculation\n",
    "\n",
    "def bondOrder(adj,evecs,energies,occu):\n",
    "    adjUp = np.triu(adj) # remove redundant elements\n",
    "    r,s = np.nonzero(adjUp) # get indices of nonzero elements\n",
    "    p = np.zeros(r.size)\n",
    "    \n",
    "    for i in range(r.size):\n",
    "        cr = evecs[:,r[i]]\n",
    "        cs = evecs[:,s[i]]\n",
    "                \n",
    "        cPr = np.multiply(cr,cs)\n",
    "        \n",
    "        p[i] = np.dot(cPr,occu)\n",
    "    \n",
    "    return np.array([r,s,p])\n",
    "    \n",
    "p = bondOrder(adj,evecs,energies,occu)\n",
    "\n",
    "print(p)"
   ]
  },
  {
   "cell_type": "code",
   "execution_count": null,
   "metadata": {
    "collapsed": true
   },
   "outputs": [],
   "source": []
  }
 ],
 "metadata": {
  "kernelspec": {
   "display_name": "Python 3",
   "language": "python",
   "name": "python3"
  },
  "language_info": {
   "codemirror_mode": {
    "name": "ipython",
    "version": 3
   },
   "file_extension": ".py",
   "mimetype": "text/x-python",
   "name": "python",
   "nbconvert_exporter": "python",
   "pygments_lexer": "ipython3",
   "version": "3.6.0"
  }
 },
 "nbformat": 4,
 "nbformat_minor": 2
}
