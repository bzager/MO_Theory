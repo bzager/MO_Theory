{
 "cells": [
  {
   "cell_type": "code",
   "execution_count": 1,
   "metadata": {
    "collapsed": false
   },
   "outputs": [],
   "source": [
    "# Computational Physics Project 4 - Molecular Orbital Theory\n",
    "# Ben Zager, Zach Faber-Manning, Michael Rosen\n",
    "\n",
    "import numpy as np\n",
    "import scipy as sp\n",
    "import matplotlib.pyplot as plt\n",
    "from scipy.linalg import eigh,solve\n"
   ]
  },
  {
   "cell_type": "code",
   "execution_count": 2,
   "metadata": {
    "collapsed": false
   },
   "outputs": [],
   "source": [
    "# Constants\n",
    "\n",
    "# adjacency matrix of carbons\n",
    "buta = np.array([[0,1,0,0],[1,0,1,0],[0,1,0,1],[0,0,1,0]]) # butadiene (N=4)\n",
    "benz = np.array([[0,1,0,0,0,1],[1,0,1,0,0,0],[0,1,0,1,0,0],[0,0,1,0,1,0],[0,0,0,1,0,1],[1,0,0,0,1,0]]) # benzene (N=6)\n",
    "ethy = np.array([[0,1],[1,0]]) # ethylene (N=2)\n",
    "\n",
    "adj = buta # select which molecule\n",
    "\n",
    "N = adj.shape[0] # number of carbons\n",
    "Ne = N # number of electrons\n"
   ]
  },
  {
   "cell_type": "code",
   "execution_count": 3,
   "metadata": {
    "collapsed": false
   },
   "outputs": [
    {
     "name": "stdout",
     "output_type": "stream",
     "text": [
      "Eigenvalues\n",
      "\n",
      "1 : a + 2.0b  [-0.408 -0.408 -0.408 -0.408 -0.408 -0.408]\n",
      "2 : a + 1.0b  [ 0.577  0.289 -0.289 -0.577 -0.289  0.289]\n",
      "3 : a + 1.0b  [ 0.  -0.5 -0.5  0.   0.5  0.5]\n",
      "4 : a + -1.0b  [ 0.   0.5 -0.5  0.   0.5 -0.5]\n",
      "5 : a + -1.0b  [ 0.577 -0.289 -0.289  0.577 -0.289 -0.289]\n",
      "6 : a + -2.0b  [ 0.408 -0.408  0.408 -0.408  0.408 -0.408]\n"
     ]
    }
   ],
   "source": [
    "# Compute eigenvalues and eigenvectors\n",
    "\n",
    "# Finds eigenvalues and eigenvectors\n",
    "# args: adjacency matrix\n",
    "# rets: tuple, (eigenvalues,eigenvectors) \n",
    "def getEigs(adj):\n",
    "    eigs = eigh(adj)\n",
    "    evals = np.flip(np.around(eigs[0],4),0) # eigenvalues\n",
    "    evecs = np.flip(np.around(eigs[1],4),1) # eigenvectors\n",
    "    \n",
    "    return (evals,evecs)\n",
    "\n",
    "evals,evecs = getEigs(adj)\n",
    "\n",
    "print(\"Eigenvalues\\n\")\n",
    "for i in range(N):\n",
    "    print(str(i+1)+\" : a + \"+str(np.around(evals[i],3))+\"b  \" + str(np.around(evecs[:,i],3)))\n"
   ]
  },
  {
   "cell_type": "code",
   "execution_count": 56,
   "metadata": {
    "collapsed": false
   },
   "outputs": [
    {
     "name": "stdout",
     "output_type": "stream",
     "text": [
      "(array([-2., -1.,  1.,  2.]), array([1, 2, 2, 1]))\n"
     ]
    },
    {
     "data": {
      "image/png": "[encoded data removed]",
      "text/plain": [
       "<matplotlib.figure.Figure at 0x110a2f4a8>"
      ]
     },
     "metadata": {},
     "output_type": "display_data"
    },
    {
     "name": "stdout",
     "output_type": "stream",
     "text": [
      "[-2. -2. -1. -1. -1. -1.]\n",
      "[ 2.  2.  2.  0.  0.  0.]\n",
      "-8.0\n"
     ]
    }
   ],
   "source": [
    "# Very ugly function, try to improve\n",
    "\n",
    "# Plots energy level diagram and determines electron energies\n",
    "# args: ordered list of eigenvalues, number of electrons\n",
    "# rets: list of energies for the Ne electrons\n",
    "def energyLevel(evals,Ne,show=True):\n",
    "    \n",
    "    # parameters for drawing diagram\n",
    "    mid = 0.5 # midpoint\n",
    "    width = 0.15 # width of each line\n",
    "    space = 0.05 # spacing between lines\n",
    "    arrlen = 0.5 # arrow length\n",
    "    hw = 0.025 # width of head of arrow\n",
    "    hl = 0.25 # length of head of arrow\n",
    "\n",
    "    # get unique list of energies\n",
    "    # returns tuple of two arrays, ([energies],[multiplicity])\n",
    "    uniq = np.unique(np.around(evals,4),return_counts=True)\n",
    "\n",
    "    energies = np.zeros(Ne) # stores energies of each electron\n",
    "    occu = np.zeros(N) # occupation number\n",
    "    filled = 0 # keep track of how many electrons are left\n",
    "    orb = 1 # keep track of current orbital\n",
    "\n",
    "    print(uniq)\n",
    "    \n",
    "    for i in range(uniq[0].size): # go through each unique energy level\n",
    "        E = uniq[0][i]\n",
    "        m = uniq[1][i] # multiplicity\n",
    "        start = mid - 0.5*(m-1)*(width+space) # where first line is drawn (left edge)\n",
    "        \n",
    "        turn = 1 # 1st or 2nd sweep through level\n",
    "        j = 0 # keep track of degenerate energy levels\n",
    "        \n",
    "        while j < m:\n",
    "            xL = start + j*(width+space) - 0.5*width # set bounds for drawing line\n",
    "            xR = xL + width\n",
    "            plt.axhline(E,xmin=xL,xmax=xR)\n",
    "            \n",
    "            if filled < Ne: \n",
    "                energies[filled] = E\n",
    "                \n",
    "                if turn == 1:\n",
    "                    elec = 0.95*np.mean([xL,xR])\n",
    "                    plt.arrow(elec,E,0,arrlen,head_width=hw,head_length=hl,fc='k',ec='k')\n",
    "                    filled += 1\n",
    "                    occu[orb-1] = 1 # set occupation number to 1\n",
    "                    \n",
    "                    if j == m-1:\n",
    "                        turn = 2\n",
    "                        j = 0\n",
    "                        orb -= (m-1)\n",
    "                        continue\n",
    "                        \n",
    "                elif turn == 2:\n",
    "                    elec = 1.05*np.mean([xL,xR])\n",
    "                    plt.arrow(elec,E+arrlen+hl,0,-arrlen,head_width=0.025,head_length=0.25,fc='k',ec='k')\n",
    "                    filled += 1\n",
    "                    occu[orb-1] = 2\n",
    "                orb += 1\n",
    "            j += 1\n",
    "    \n",
    "    plt.ylabel(\"Energy\")\n",
    "    plt.xlim([0,1])\n",
    "    plt.ylim([np.min(evals)-1,np.max(evals)+1])\n",
    "    plt.title(\"Energy Level Diagram\")\n",
    "    if show:\n",
    "        plt.show()\n",
    "        \n",
    "    return energies,occu\n",
    "\n",
    "\n",
    "energies,occu = energyLevel(evals,Ne)\n",
    "print(energies); print(occu);\n",
    "ETot = np.sum(energies)\n",
    "print(ETot)\n"
   ]
  },
  {
   "cell_type": "code",
   "execution_count": 10,
   "metadata": {
    "collapsed": false
   },
   "outputs": [
    {
     "data": {
      "image/png": "[encoded data removed]",
      "text/plain": [
       "<matplotlib.figure.Figure at 0x1105cbb70>"
      ]
     },
     "metadata": {},
     "output_type": "display_data"
    }
   ],
   "source": [
    "# Plot eigenvectors\n",
    "\n",
    "for i in range(N):\n",
    "    plt.plot(evecs[:,i],'o',label=r\"$E_\"+str(i+1)+\"$\")\n",
    "\n",
    "plt.axhline(0,color='k')\n",
    "plt.title(\"Components of the Eigenvectors\")\n",
    "plt.legend()\n",
    "plt.show()"
   ]
  },
  {
   "cell_type": "code",
   "execution_count": 6,
   "metadata": {
    "collapsed": false
   },
   "outputs": [
    {
     "name": "stdout",
     "output_type": "stream",
     "text": [
      "4.0b\n"
     ]
    }
   ],
   "source": [
    "# Delocalization energy of butadiene\n",
    "# energy difference from ground state and isolated double bonds (compare to ethylene)\n",
    "# \n",
    "\n",
    "# determine delocalization energy, given total ground state energy and number of double bonds\n",
    "def calcDeloc(E,numDB):\n",
    "    Ne_ethy = 2\n",
    "    evals_ethy = getEigs(ethy)[0]\n",
    "    E_ethy = energyLevel(evals_ethy,Ne_ethy,show=False)\n",
    "    ETot_ethy = np.sum(E_ethy)\n",
    "    deloc = numDB*ETot_ethy - ETot\n",
    "\n",
    "    return deloc\n",
    "\n",
    "numDB = 2 # number of double bonds\n",
    "deloc = calcDeloc(ETot,numDB)\n",
    "\n",
    "print(str(deloc)+\"b\")"
   ]
  },
  {
   "cell_type": "code",
   "execution_count": 7,
   "metadata": {
    "collapsed": false
   },
   "outputs": [
    {
     "ename": "SyntaxError",
     "evalue": "invalid syntax (<ipython-input-7-c9ce0aeb07ad>, line 10)",
     "output_type": "error",
     "traceback": [
      "\u001b[0;36m  File \u001b[0;32m\"<ipython-input-7-c9ce0aeb07ad>\"\u001b[0;36m, line \u001b[0;32m10\u001b[0m\n\u001b[0;31m    v[i] =\u001b[0m\n\u001b[0m           ^\u001b[0m\n\u001b[0;31mSyntaxError\u001b[0m\u001b[0;31m:\u001b[0m invalid syntax\n"
     ]
    }
   ],
   "source": [
    "# Charge density estimation \n",
    "# for single electron in orbital I, |c_Ir|^2 is probability of electron being on atom r\n",
    "\n",
    "def chargeDensity(r,evecs,energies):\n",
    "    c = evecs[:,r] # get the rth component of eigenvector\n",
    "    cSqr = np.square(c) # \n",
    "    v = np.zeros(N) # \n",
    "    \n",
    "    for I in xrange(N):\n",
    "        v[I] = \n",
    "    \n",
    "    q = np.sum(np.product(cSqr,v))\n",
    "    return q\n",
    "\n",
    "q = np.zeros(N)\n",
    "\n",
    "for r in xrange(N):\n",
    "    q[r] = chargeDensity(r,evecs,energies)\n"
   ]
  },
  {
   "cell_type": "code",
   "execution_count": 43,
   "metadata": {
    "collapsed": false
   },
   "outputs": [
    {
     "name": "stdout",
     "output_type": "stream",
     "text": [
      "[[-0.4082  0.5774  0.      0.      0.5774  0.4082]\n",
      " [-0.4082  0.2887 -0.5     0.5    -0.2887 -0.4082]\n",
      " [-0.4082 -0.2887 -0.5    -0.5    -0.2887  0.4082]\n",
      " [-0.4082 -0.5774  0.      0.      0.5774 -0.4082]\n",
      " [-0.4082 -0.2887  0.5     0.5    -0.2887  0.4082]\n",
      " [-0.4082  0.2887  0.5    -0.5    -0.2887 -0.4082]]\n"
     ]
    }
   ],
   "source": [
    "# Bond order calculation\n",
    "print(evecs)\n"
   ]
  },
  {
   "cell_type": "code",
   "execution_count": null,
   "metadata": {
    "collapsed": true
   },
   "outputs": [],
   "source": []
  }
 ],
 "metadata": {
  "kernelspec": {
   "display_name": "Python 3",
   "language": "python",
   "name": "python3"
  },
  "language_info": {
   "codemirror_mode": {
    "name": "ipython",
    "version": 3
   },
   "file_extension": ".py",
   "mimetype": "text/x-python",
   "name": "python",
   "nbconvert_exporter": "python",
   "pygments_lexer": "ipython3",
   "version": "3.6.0"
  }
 },
 "nbformat": 4,
 "nbformat_minor": 2
}
