{
 "cells": [
  {
   "cell_type": "code",
   "execution_count": 2,
   "metadata": {
    "collapsed": false
   },
   "outputs": [],
   "source": [
    "# Computational Physics Project 4 - Molecular Orbital Theory\n",
    "# Ben Zager, Zach Faber-Manning, Michael Rosen\n",
    "\n",
    "import numpy as np\n",
    "import scipy as sp\n",
    "import matplotlib.pyplot as plt\n",
    "from scipy.linalg import eigh,solve\n"
   ]
  },
  {
   "cell_type": "code",
   "execution_count": 93,
   "metadata": {
    "collapsed": false
   },
   "outputs": [
    {
     "name": "stdout",
     "output_type": "stream",
     "text": [
      "Eigenvalues\n",
      "\n",
      "1 : a + -2.0b  [ 0.408 -0.408  0.408 -0.408  0.408 -0.408]\n",
      "2 : a + -1.0b  [ 0.577 -0.289 -0.289  0.577 -0.289 -0.289]\n",
      "3 : a + -1.0b  [ 0.   0.5 -0.5  0.   0.5 -0.5]\n",
      "4 : a + 1.0b  [ 0.  -0.5 -0.5  0.   0.5  0.5]\n",
      "5 : a + 1.0b  [ 0.577  0.289 -0.289 -0.577 -0.289  0.289]\n",
      "6 : a + 2.0b  [-0.408 -0.408 -0.408 -0.408 -0.408 -0.408]\n"
     ]
    }
   ],
   "source": [
    "# eigenvalues -> a + b*eig(adj)\n",
    "\n",
    "a = -10 # \n",
    "b = -1 # \n",
    "N = 6 # number of carbons\n",
    "Ne = N # number of electrons\n",
    "\n",
    "# adjacency matrix of carbons\n",
    "#adj = np.array([[0,1,0,0],[1,0,1,0],[0,1,0,1],[0,0,1,0]]) # butadiene (N=4)\n",
    "adj = np.array([[0,1,0,0,0,1],[1,0,1,0,0,0],[0,1,0,1,0,0],[0,0,1,0,1,0],[0,0,0,1,0,1],[1,0,0,0,1,0]]) # benzene (N=6)\n",
    "#adj = np.array([[0,1],[1,0]]) # ethylene (N=2)\n",
    "\n",
    "H = a*np.identity(N) + b*adj # Hamiltonian\n",
    "\n",
    "eigs = eigh(adj)\n",
    "evals = np.around(eigs[0],4) # eigenvalues\n",
    "evecs = np.around(eigs[1],4) # eigenvectors\n",
    "\n",
    "print(\"Eigenvalues\\n\")\n",
    "for i in range(N):\n",
    "    print(str(i+1)+\" : a + \"+str(np.around(evals[i],3))+\"b  \" + str(np.around(evecs[:,i],3)))\n"
   ]
  },
  {
   "cell_type": "code",
   "execution_count": 95,
   "metadata": {
    "collapsed": false
   },
   "outputs": [
    {
     "name": "stdout",
     "output_type": "stream",
     "text": [
      "[-2. -2. -1. -1. -1. -1.  1.]\n"
     ]
    },
    {
     "data": {
      "image/png": "[encoded data removed]",
      "text/plain": [
       "<matplotlib.figure.Figure at 0x10e8307b8>"
      ]
     },
     "metadata": {},
     "output_type": "display_data"
    },
    {
     "data": {
      "image/png": "[encoded data removed]",
      "text/plain": [
       "<matplotlib.figure.Figure at 0x10e714be0>"
      ]
     },
     "metadata": {},
     "output_type": "display_data"
    }
   ],
   "source": [
    "# \n",
    "        \n",
    "# parameters for drawing diagram\n",
    "mid = 0.5 # \n",
    "width = 0.2 # \n",
    "space = 0.05 #\n",
    "arrlen = 0.5 # arrow length\n",
    "\n",
    "uniq = np.unique(np.around(evals,4),return_counts=True)\n",
    "energies = np.zeros(Ne)\n",
    "\n",
    "# draw energy level diagram\n",
    "filled = 0\n",
    "for i in range(uniq[0].size):\n",
    "    y = uniq[0][i] #*b + a\n",
    "    m = uniq[1][i]\n",
    "    start = mid - 0.5*(m-1)*(width+space)\n",
    "    \n",
    "    turn = 1\n",
    "    j = 0\n",
    "    while j < m:\n",
    "        xL = start + j*(width+space) - 0.5*width\n",
    "        xR = xL + width\n",
    "        plt.axhline(y,xmin=xL,xmax=xR)\n",
    "        if filled < Ne:\n",
    "            energies[filled] = y\n",
    "            if turn == 1:\n",
    "                elec = 0.9*np.mean([xL,xR])\n",
    "                plt.arrow(elec,y,0,arrlen,head_width=0.025,head_length=0.25)\n",
    "                filled += 1\n",
    "                if j == m-1:\n",
    "                    turn = 2\n",
    "                    j = 0\n",
    "                    continue\n",
    "            elif turn == 2:\n",
    "                elec = 1.1*np.mean([xL,xR])\n",
    "                plt.arrow(elec,y+arrlen,0,-arrlen,head_width=0.025,head_length=0.25)\n",
    "                filled += 1\n",
    "        j += 1\n",
    "\n",
    "print(energies)\n",
    "plt.ylabel(\"Energy\")\n",
    "plt.xlim([0,1])\n",
    "plt.ylim([np.min(evals)-1,np.max(evals)+1])\n",
    "plt.title(\"Energy Level Diagram\")\n",
    "plt.show()\n",
    "\n",
    "for i in range(N):\n",
    "    plt.axhline(0,color='k')\n",
    "    plt.plot(evecs[:,i],'o',label=str(i+1))\n",
    "\n",
    "plt.legend()\n",
    "plt.show()"
   ]
  },
  {
   "cell_type": "code",
   "execution_count": null,
   "metadata": {
    "collapsed": false
   },
   "outputs": [],
   "source": [
    "# Delocalization energy\n",
    "# energy difference from ground state and two isolated double bonds (compare to ethylene)\n",
    "\n"
   ]
  },
  {
   "cell_type": "code",
   "execution_count": null,
   "metadata": {
    "collapsed": true
   },
   "outputs": [],
   "source": [
    "# Charge density estimation \n",
    "# for single electron in orbital I, |c_Ir|^2 is probability of electron being on atom r\n",
    "\n"
   ]
  },
  {
   "cell_type": "code",
   "execution_count": null,
   "metadata": {
    "collapsed": true
   },
   "outputs": [],
   "source": [
    "# Bond order calculation\n",
    "\n"
   ]
  }
 ],
 "metadata": {
  "celltoolbar": "Raw Cell Format",
  "kernelspec": {
   "display_name": "Python 3",
   "language": "python",
   "name": "python3"
  },
  "language_info": {
   "codemirror_mode": {
    "name": "ipython",
    "version": 3
   },
   "file_extension": ".py",
   "mimetype": "text/x-python",
   "name": "python",
   "nbconvert_exporter": "python",
   "pygments_lexer": "ipython3",
   "version": "3.6.0"
  }
 },
 "nbformat": 4,
 "nbformat_minor": 2
}
