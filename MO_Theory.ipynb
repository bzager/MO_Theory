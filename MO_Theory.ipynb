{
 "cells": [
  {
   "cell_type": "code",
   "execution_count": 39,
   "metadata": {
    "collapsed": false
   },
   "outputs": [],
   "source": [
    "# Computational Physics Project 4 - Molecular Orbital Theory\n",
    "# Ben Zager, Zach Faber-Manning, Michael Rosen\n",
    "\n",
    "import numpy as np\n",
    "import scipy as sp\n",
    "import matplotlib.pyplot as plt\n",
    "from scipy.linalg import eigh,solve\n"
   ]
  },
  {
   "cell_type": "code",
   "execution_count": 68,
   "metadata": {
    "collapsed": false
   },
   "outputs": [
    {
     "name": "stdout",
     "output_type": "stream",
     "text": [
      "1 : a + -1.618b  [ 0.372 -0.602  0.602 -0.372]\n",
      "2 : a + -0.618b  [ 0.602 -0.372 -0.372  0.602]\n",
      "3 : a + 0.618b  [-0.602 -0.372  0.372  0.602]\n",
      "4 : a + 1.618b  [ 0.372  0.602  0.602  0.372]\n"
     ]
    }
   ],
   "source": [
    "# eigenvalues -> a + b*eig(adj)\n",
    "\n",
    "a = -11.2\n",
    "b = -0.7\n",
    "N = 4 # number of carbons\n",
    "adj = np.array([[0,1,0,0],[1,0,1,0],[0,1,0,1],[0,0,1,0]]) # adjacency matrix of carbons\n",
    "\n",
    "eigs = eigh(adj)\n",
    "evals = eigs[0]\n",
    "evecs = eigs[1]\n",
    "\n",
    "for i in range(N):\n",
    "    print(str(i+1)+\" : a + \"+str(np.around(evals[i],3))+\"b  \" + str(np.around(evecs[:,i],3)))\n"
   ]
  },
  {
   "cell_type": "code",
   "execution_count": 64,
   "metadata": {
    "collapsed": false
   },
   "outputs": [
    {
     "data": {
      "image/png": "[encoded data removed]",
      "text/plain": [
       "<matplotlib.figure.Figure at 0x10b5831d0>"
      ]
     },
     "metadata": {},
     "output_type": "display_data"
    },
    {
     "data": {
      "image/png": "[encoded data removed]",
      "text/plain": [
       "<matplotlib.figure.Figure at 0x10b4d6550>"
      ]
     },
     "metadata": {},
     "output_type": "display_data"
    }
   ],
   "source": [
    "for i in range(eVals.size):\n",
    "    plt.axhline(eVals[i])\n",
    "\n",
    "plt.title(\"Energy Level Diagram\")\n",
    "plt.ylim([0,1.1*np.max(eVals)])\n",
    "plt.show()\n",
    "\n",
    "for i in range(N):\n",
    "    plt.axhline(0,color='k')\n",
    "    plt.plot(eVecs[:,i],'o',label=str(i+1))\n",
    "\n",
    "plt.legend()\n",
    "plt.show()"
   ]
  },
  {
   "cell_type": "code",
   "execution_count": null,
   "metadata": {
    "collapsed": false
   },
   "outputs": [],
   "source": []
  },
  {
   "cell_type": "code",
   "execution_count": null,
   "metadata": {
    "collapsed": true
   },
   "outputs": [],
   "source": []
  }
 ],
 "metadata": {
  "kernelspec": {
   "display_name": "Python 3",
   "language": "python",
   "name": "python3"
  },
  "language_info": {
   "codemirror_mode": {
    "name": "ipython",
    "version": 3
   },
   "file_extension": ".py",
   "mimetype": "text/x-python",
   "name": "python",
   "nbconvert_exporter": "python",
   "pygments_lexer": "ipython3",
   "version": "3.6.0"
  }
 },
 "nbformat": 4,
 "nbformat_minor": 2
}
