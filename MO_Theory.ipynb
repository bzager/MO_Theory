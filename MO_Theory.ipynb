{
 "cells": [
  {
   "cell_type": "code",
   "execution_count": 356,
   "metadata": {
    "collapsed": false
   },
   "outputs": [],
   "source": [
    "# Computational Physics Project 4 - Molecular Orbital Theory\n",
    "# Ben Zager, Zach Faber-Manning, Michael Rosen\n",
    "\n",
    "import numpy as np\n",
    "import scipy as sp\n",
    "import matplotlib.pyplot as plt\n",
    "from scipy.linalg import eigh,solve,norm\n",
    "\n",
    "np.set_printoptions(precision=3)\n"
   ]
  },
  {
   "cell_type": "code",
   "execution_count": 357,
   "metadata": {
    "collapsed": true
   },
   "outputs": [],
   "source": [
    "# Define molecules\n",
    "# {name of molecule, number of double bonds}\n",
    "\n",
    "buta = {\"name\":\"butadiene\",\"db\":2} \n",
    "benz = {\"name\":\"benzene\",\"db\":3} \n",
    "tolu = {\"name\":\"toluene\",\"db\":3} # benzene with methyl group\n",
    "naph = {\"name\":\"naphthalene\",\"db\":5} # two connected benzene rings\n",
    "buck = {\"name\":\"buckyball\",\"db\":30} # Buckminsterfullerene\n",
    "ethe = {\"name\":\"ethene\",\"db\":1}"
   ]
  },
  {
   "cell_type": "code",
   "execution_count": 358,
   "metadata": {
    "collapsed": false
   },
   "outputs": [],
   "source": [
    "# Set molecule to analyze\n",
    "\n",
    "mol = buta # select molecule\n",
    "\n",
    "name = mol[\"name\"]\n",
    "adj = np.loadtxt(\"data/\"+name+\".txt\")\n",
    "\n",
    "N = adj.shape[0] # number of carbons\n",
    "Ne = N # number of pi electrons\n",
    "db = mol[\"db\"] # number of double bonds (2 for butadiene, 3 for benzene/toluene, 5 for naphthalene, 30 for buckyball)"
   ]
  },
  {
   "cell_type": "code",
   "execution_count": 359,
   "metadata": {
    "collapsed": false
   },
   "outputs": [
    {
     "name": "stdout",
     "output_type": "stream",
     "text": [
      "Eigenvalues\n",
      "\n",
      "1 : a + 1.618b  [ 0.372  0.602  0.602  0.372]\n",
      "2 : a + 0.618b  [-0.602 -0.372  0.372  0.602]\n",
      "3 : a + -0.618b  [ 0.602 -0.372 -0.372  0.602]\n",
      "4 : a + -1.618b  [ 0.372 -0.602  0.602 -0.372]\n"
     ]
    }
   ],
   "source": [
    "# Compute eigenvalues and eigenvectors\n",
    "# analytical solutions, molecule with n atoms\n",
    "# linear molecule: E_k = 2cos(k*pi/(n+1))\n",
    "# cyclic molecule: E_k = 2cos(2k*pi/n)\n",
    "\n",
    "# gram schmidt method to orthonormalize eigenvectors\n",
    "# M is a matrix with each column an eigenvector, V is new matrix\n",
    "# adapted from andreask.cs.illinois.edu/cs357-s15/public/demos/05-orthgonality/Gram-Schmidt%20and%20Modified%20Gram-Schmidt.py\n",
    "def gramSchmidt(M):\n",
    "    n = M.shape[0]\n",
    "    V = np.zeros([n,n])\n",
    "    V[:,0] = M[:,0] / norm(M[:,0])\n",
    "\n",
    "    for i in range(n):\n",
    "        q = M[:,i]\n",
    "        for j in range(i):\n",
    "            q = q - np.dot(q,V[:,j])*V[:,j]\n",
    "    \n",
    "        V[:,i] = q/norm(q)\n",
    "        \n",
    "    return V\n",
    "    \n",
    "# Finds eigenvalues and eigenvectors\n",
    "# args: adjacency matrix\n",
    "# rets: tuple, (eigenvalues,eigenvectors) \n",
    "def getEigs(adj):\n",
    "    eigs = eigh(adj)\n",
    "    evals = np.flip(np.around(eigs[0],4),0) # eigenvalues\n",
    "    evecs = np.flip(np.around(eigs[1],4),1) # eigenvectors\n",
    "    \n",
    "    evecs = gramSchmidt(evecs) # orthogonalize eigenvectors\n",
    "    \n",
    "    return (evals,evecs)\n",
    "\n",
    "evals,evecs = getEigs(adj)\n",
    "\n",
    "print(\"Eigenvalues\\n\")\n",
    "for i in range(N):\n",
    "    print(str(i+1)+\" : a + \"+str(np.around(evals[i],3))+\"b  \" + str(np.around(evecs[:,i],3)))\n"
   ]
  },
  {
   "cell_type": "code",
   "execution_count": 355,
   "metadata": {
    "collapsed": false,
    "scrolled": true
   },
   "outputs": [
    {
     "name": "stdout",
     "output_type": "stream",
     "text": [
      "Electron energies: [-1.618 -1.618 -0.618 -0.618  0.618  0.618  1.618  1.618  0.     0.     0.\n",
      "  0.     0.     0.     0.     0.   ]\n",
      "Occupation numbers: [ 2.  2.  2.  2.]\n",
      "Total ground state energy: 0.0b\n"
     ]
    }
   ],
   "source": [
    "# Very ugly function, try to improve\n",
    "\n",
    "# Plots energy level diagram and determines electron energies\n",
    "# args: ordered list of eigenvalues, number of electrons\n",
    "# rets: list of energies for the Ne electrons\n",
    "def energyLevel(evals,Ne,name,show=False,save=False):\n",
    "    \n",
    "    # parameters for drawing diagram\n",
    "    mid = 0.5 # midpoint\n",
    "    width = 0.05 # width of each line\n",
    "    space = 0.015 # spacing between lines\n",
    "    arrlen = 0.15 # arrow length\n",
    "    hw = 0.01 # width of head of arrow\n",
    "    hl = 0.1 # length of head of arrow\n",
    "\n",
    "    # get unique list of energies\n",
    "    # returns tuple of two arrays, ([energies],[multiplicity])\n",
    "    uniq = np.unique(np.around(evals,4),return_counts=True)\n",
    "\n",
    "    energies = np.zeros(Ne) # stores energies of each electron\n",
    "    occu = np.zeros(evals.size) # occupation number\n",
    "    filled = 0 # keep track of how many electrons are left\n",
    "    orb = 1 # keep track of current orbital\n",
    "    \n",
    "    for i in range(uniq[0].size): # go through each unique energy level\n",
    "        E = uniq[0][i]\n",
    "        m = uniq[1][i] # multiplicity\n",
    "        start = mid - 0.5*(m-1)*(width+space) # where first line is drawn (left edge)\n",
    "        \n",
    "        turn = 1 # 1st or 2nd sweep through level\n",
    "        j = 0 # keep track of degenerate energy levels\n",
    "\n",
    "        while j < m:\n",
    "            xL = start + j*(width+space) - 0.5*width # set bounds for drawing line\n",
    "            xR = xL + width\n",
    "            plt.axhline(E,xmin=xL,xmax=xR) # draw horizontal line\n",
    "            if filled < Ne:\n",
    "                energies[filled] = E\n",
    "                if turn == 1:\n",
    "                    elec = np.mean([xL,xR]) - 0.25*width\n",
    "                    plt.arrow(elec,E,0,arrlen,head_width=hw,head_length=hl,fc='k',ec='k')\n",
    "                    filled += 1\n",
    "                    occu[orb-1] = 1\n",
    "                    if j == m-1:\n",
    "                        turn = 2\n",
    "                        j = 0\n",
    "                        orb -= (m-1)\n",
    "                        continue     \n",
    "                elif turn == 2:\n",
    "                    elec = np.mean([xL,xR]) + 0.25*width\n",
    "                    plt.arrow(elec,E+arrlen+hl,0,-arrlen,head_width=hw,head_length=hl,fc='k',ec='k')\n",
    "                    filled += 1\n",
    "                    occu[orb-1] = 2\n",
    "                orb += 1\n",
    "            j += 1\n",
    "    \n",
    "    plt.ylabel(\"Energy\")\n",
    "    plt.xlim([0,1])\n",
    "    plt.ylim([np.min(evals),np.max(evals)+2*hl])\n",
    "    plt.title(\"Energy Level Diagram for \"+name)\n",
    "    if save:\n",
    "        plt.savefig(\"figures/energyLevels_\"+name+\".png\")\n",
    "    elif show:\n",
    "        plt.show()\n",
    "        \n",
    "    return energies,occu\n",
    "\n",
    "energies,occu = energyLevel(evals,Ne,name,show=True,save=True)\n",
    "ETot = np.sum(energies)\n",
    "print(\"Electron energies:\",energies)\n",
    "print(\"Occupation numbers:\",occu)\n",
    "print(\"Total ground state energy:\",str(ETot)+\"b\")\n"
   ]
  },
  {
   "cell_type": "code",
   "execution_count": 352,
   "metadata": {
    "collapsed": false
   },
   "outputs": [
    {
     "ename": "IndexError",
     "evalue": "index 4 is out of bounds for axis 1 with size 4",
     "output_type": "error",
     "traceback": [
      "\u001b[0;31m---------------------------------------------------------------------------\u001b[0m",
      "\u001b[0;31mIndexError\u001b[0m                                Traceback (most recent call last)",
      "\u001b[0;32m<ipython-input-352-7d4cb5443782>\u001b[0m in \u001b[0;36m<module>\u001b[0;34m()\u001b[0m\n\u001b[1;32m      2\u001b[0m \u001b[0;34m\u001b[0m\u001b[0m\n\u001b[1;32m      3\u001b[0m \u001b[0;32mfor\u001b[0m \u001b[0mi\u001b[0m \u001b[0;32min\u001b[0m \u001b[0mrange\u001b[0m\u001b[0;34m(\u001b[0m\u001b[0mN\u001b[0m\u001b[0;34m)\u001b[0m\u001b[0;34m:\u001b[0m\u001b[0;34m\u001b[0m\u001b[0m\n\u001b[0;32m----> 4\u001b[0;31m     \u001b[0mplt\u001b[0m\u001b[0;34m.\u001b[0m\u001b[0mplot\u001b[0m\u001b[0;34m(\u001b[0m\u001b[0mevecs\u001b[0m\u001b[0;34m[\u001b[0m\u001b[0;34m:\u001b[0m\u001b[0;34m,\u001b[0m\u001b[0mi\u001b[0m\u001b[0;34m]\u001b[0m\u001b[0;34m,\u001b[0m\u001b[0;34m'-o'\u001b[0m\u001b[0;34m,\u001b[0m\u001b[0mlabel\u001b[0m\u001b[0;34m=\u001b[0m\u001b[0;34mr\"$E_\"\u001b[0m\u001b[0;34m+\u001b[0m\u001b[0mstr\u001b[0m\u001b[0;34m(\u001b[0m\u001b[0mi\u001b[0m\u001b[0;34m+\u001b[0m\u001b[0;36m1\u001b[0m\u001b[0;34m)\u001b[0m\u001b[0;34m+\u001b[0m\u001b[0;34m\"$\"\u001b[0m\u001b[0;34m)\u001b[0m\u001b[0;34m\u001b[0m\u001b[0m\n\u001b[0m\u001b[1;32m      5\u001b[0m \u001b[0;34m\u001b[0m\u001b[0m\n\u001b[1;32m      6\u001b[0m \u001b[0mplt\u001b[0m\u001b[0;34m.\u001b[0m\u001b[0maxhline\u001b[0m\u001b[0;34m(\u001b[0m\u001b[0;36m0\u001b[0m\u001b[0;34m,\u001b[0m\u001b[0mcolor\u001b[0m\u001b[0;34m=\u001b[0m\u001b[0;34m'k'\u001b[0m\u001b[0;34m)\u001b[0m\u001b[0;34m\u001b[0m\u001b[0m\n",
      "\u001b[0;31mIndexError\u001b[0m: index 4 is out of bounds for axis 1 with size 4"
     ]
    }
   ],
   "source": [
    "# Plot eigenvectors\n",
    "\n",
    "for i in range(N):\n",
    "    plt.plot(evecs[:,i],'-o',label=r\"$E_\"+str(i+1)+\"$\")\n",
    "\n",
    "plt.axhline(0,color='k')\n",
    "plt.title(\"Components of the Eigenvectors\")\n",
    "plt.legend(ncol=1 + int(N/4),columnspacing=0,borderpad=0,framealpha=0.6,labelspacing=0,markerscale=0.8)\n",
    "plt.show()"
   ]
  },
  {
   "cell_type": "code",
   "execution_count": 329,
   "metadata": {
    "collapsed": false
   },
   "outputs": [
    {
     "name": "stdout",
     "output_type": "stream",
     "text": [
      "0.472\n"
     ]
    }
   ],
   "source": [
    "# Delocalization energy\n",
    "# energy difference from ground state and isolated double bonds (compare to ethylene)\n",
    "# Butadiene - 0.472\n",
    "# Benzene - 2.0\n",
    "# Toluene - 2.7206\n",
    "# Naphthalene - 3.6832\n",
    "# Buckyball - 33.1622\n",
    "\n",
    "# determine delocalization energy, given total ground state energy and number of double bonds\n",
    "def calcDeloc(ETot,numDB,name):\n",
    "    NeEthe = 2 # pi electrons in ethene\n",
    "    adjEthe = np.loadtxt(\"data/ethene.txt\")\n",
    "    evalsEthe = getEigs(adjEthe)[0]\n",
    "    EEthe = energyLevel(evalsEthe,NeEthe,name)[0]\n",
    "    ETotEthy = np.sum(EEthe)\n",
    "    deloc = numDB*ETotEthe - ETot\n",
    "\n",
    "    return deloc\n",
    "\n",
    "deloc = calcDeloc(ETot,db,name)\n",
    "\n",
    "print(\"Delocalization energy: \"+str(deloc))"
   ]
  },
  {
   "cell_type": "code",
   "execution_count": 300,
   "metadata": {
    "collapsed": false
   },
   "outputs": [
    {
     "name": "stdout",
     "output_type": "stream",
     "text": [
      "[ 1.  1.  1.  1.]\n"
     ]
    }
   ],
   "source": [
    "# Charge density estimation \n",
    "# for single electron in orbital I, |c_Ir|^2 is probability of electron being on atom r\n",
    "# Butadiene - all 1\n",
    "# Benzene - \n",
    "# Toluene - all 1\n",
    "# Naphthalene - all 1\n",
    "# Buckyball - all 1 \n",
    "\n",
    "def chargeDensity(evecs,energies,occu):\n",
    "    q = np.zeros(N)\n",
    "        \n",
    "    for r in range(N):\n",
    "        c = evecs[r,:] # get the rth component of all eigenvectors\n",
    "        cSq = np.square(c)\n",
    "        q[r] = np.dot(cSq,occu)\n",
    "    \n",
    "    return q\n",
    "\n",
    "q = chargeDensity(evecs,energies,occu)\n",
    "\n",
    "print(q)"
   ]
  },
  {
   "cell_type": "code",
   "execution_count": 94,
   "metadata": {
    "collapsed": false
   },
   "outputs": [
    {
     "name": "stdout",
     "output_type": "stream",
     "text": [
      "[ 0.476  0.476  0.601  0.476  0.601  0.476  0.601  0.476  0.601  0.601\n",
      "  0.476  0.476  0.476  0.601  0.476  0.601  0.476  0.601  0.601  0.476\n",
      "  0.476  0.476  0.476  0.601  0.476  0.601  0.601  0.476  0.476  0.476\n",
      "  0.476  0.601  0.476  0.601  0.601  0.476  0.476  0.476  0.476  0.601\n",
      "  0.476  0.601  0.601  0.476  0.476  0.476  0.476  0.601  0.476  0.601\n",
      "  0.476  0.476  0.601  0.476  0.476  0.476  0.601  0.601  0.476  0.476\n",
      "  0.476  0.476  0.476  0.601  0.601  0.476  0.476  0.476  0.476  0.476\n",
      "  0.601  0.601  0.476  0.476  0.476  0.476  0.476  0.601  0.601  0.476\n",
      "  0.476  0.476  0.476  0.476  0.601  0.476  0.476  0.476  0.476  0.476]\n"
     ]
    }
   ],
   "source": [
    "# Bond order calculation\n",
    "# Butadiene - 0.894 0.447 0.894\n",
    "# Benzene - 0.667 0.667 0.667 0.667 0.667 0.667 \n",
    "# Toluene - 0.635 0.523 0.705 0.635 0.635 0.705\n",
    "# Naphthalene - 0.725 0.555 0.603 0.725 0.555 0.555 0.518 0.725 0.603 0.725 0.555\n",
    "# Buckyball - \n",
    "\n",
    "# Verification with known values:\n",
    "# Butadiene - http://www.faculty.umassd.edu/michele.mandrioli/424book/fchm8.8.html\n",
    "# Benzene - ocw.mit.edu/courses/chemistry/5-61-physical-chemistry-fall-2007/lecture-notes/lecture31.pdf\n",
    "# Toluene - \n",
    "# Naphthalene - \n",
    "# Buckyball - \n",
    "\n",
    "def bondOrder(adj,evecs,energies,occu):\n",
    "    adjUp = np.triu(adj) # remove redundant elements\n",
    "    r,s = np.nonzero(adjUp) # get indices of nonzero elements\n",
    "    p = np.zeros(r.size)\n",
    "    \n",
    "    for i in range(r.size):\n",
    "        cr = evecs[r[i],:]\n",
    "        cs = evecs[s[i],:]\n",
    "                \n",
    "        cPr = np.multiply(cr,cs)\n",
    "                \n",
    "        p[i] = np.dot(cPr,occu)\n",
    "    \n",
    "    return p\n",
    "    \n",
    "p = bondOrder(adj,evecs,energies,occu)\n",
    "\n",
    "print(p)"
   ]
  },
  {
   "cell_type": "code",
   "execution_count": 195,
   "metadata": {
    "collapsed": true
   },
   "outputs": [],
   "source": [
    "# Part B\n",
    "# Construct adjacency matrix for graphene\n",
    "\n",
    "# maps an (i,j) index from the square grid to the number of the atom at that location\n",
    "def indexFind(i,j,rows,cols):\n",
    "    i = i%cols # wrap around for periodic boundaries\n",
    "    j = j%rows\n",
    "    return j*cols + i\n",
    "\n",
    "# adds connection to adjacency matrix given 2 connected carbon atoms\n",
    "def connect(n1,n2,adjMat):\n",
    "    adjMat[n1,n2] = 1\n",
    "    return\n",
    "\n",
    "# constructs the adjacency matrix for the \"zigzag\" configuration of graphene\n",
    "def constructZigzag(rows,cols):\n",
    "    adjMat = np.zeros([rows*cols,rows*cols])\n",
    "    \n",
    "    for i in range(cols):\n",
    "        for j in range(rows):\n",
    "            cur = indexFind(i,j,rows,cols)\n",
    "            \n",
    "            # connect current atom to horizontal neighbors\n",
    "            connect(cur,indexFind(i+1,j,rows,cols),adjMat) \n",
    "            connect(cur,indexFind(i-1,j,rows,cols),adjMat)\n",
    "            \n",
    "            # connect to vertical neighbor if not on edge\n",
    "            # determine if connection is up or down\n",
    "            if i%2 == j%2 and j != rows-1:\n",
    "                connect(cur,indexFind(i,j+1,rows,cols),adjMat)\n",
    "            elif i%2 != j%2 and j != 0:\n",
    "                connect(cur,indexFind(i,j-1,rows,cols),adjMat)    \n",
    "    return adjMat\n",
    "\n",
    "# constructs the adjacency matrix for the \"armchair\" configuration of graphene\n",
    "def constructArmchair(rows,cols):\n",
    "    adjMat = np.zeros([rows*cols,rows*cols])\n",
    "    \n",
    "    for i in range(cols):\n",
    "        for j in range(rows):\n",
    "            cur = indexFind(i,j,rows,cols)\n",
    "            \n",
    "            # connect current atom to horizontal neighbors, accounting for edges\n",
    "            if i != cols-1:\n",
    "                connect(cur,indexFind(i+1,j,rows,cols),adjMat)\n",
    "            if i != 0:\n",
    "                connect(cur,indexFind(i-1,j,rows,cols),adjMat)\n",
    "            \n",
    "            # connect to correct vertical neighbor\n",
    "            if i%2 == j%2:\n",
    "                connect(cur,indexFind(i,j+1,rows,cols),adjMat)\n",
    "            else:\n",
    "                connect(cur,indexFind(i,j-1,rows,cols),adjMat)        \n",
    "    return adjMat\n",
    "\n",
    "# construct adjacency matrix for graphene given the number of rows and columns in the \"stretched\" lattice\n",
    "def constructAdj(rows,cols):\n",
    "    if rows < cols:\n",
    "        adjMat = constructZigzag(rows,cols)\n",
    "    else:\n",
    "        adjMat = constructArmchair(rows,cols)\n",
    "    return adjMat"
   ]
  },
  {
   "cell_type": "code",
   "execution_count": 339,
   "metadata": {
    "collapsed": false
   },
   "outputs": [
    {
     "name": "stdout",
     "output_type": "stream",
     "text": [
      "Number of Carbon atoms: 138\n"
     ]
    },
    {
     "data": {
      "image/png": "[encoded data removed]",
      "text/plain": [
       "<matplotlib.figure.Figure at 0x1122c2208>"
      ]
     },
     "metadata": {},
     "output_type": "display_data"
    }
   ],
   "source": [
    "# Set parameters for constructing graphene adjacency matrix\n",
    "# for zigzag configuration, use arm > zig\n",
    "# for armchair configuration, use zig > arm\n",
    "\n",
    "zig = 5  # layers of hexagons connected by flat edge\n",
    "arm = 11  # layers of hexagons connected in \"armchair\" pattern\n",
    "name = \"Graphene\"+str(zig)+\"x\"+str(arm)\n",
    "\n",
    "# Consider \"stretched\" hex lattice in brick wall pattern\n",
    "# Each brick is 2 bonds long and 1 bond wide\n",
    "rows = zig+1  # number of rows in \"stretched\" square lattice\n",
    "cols = arm*2 + 1  # number of columns in \"stretched\" square lattice\n",
    "\n",
    "Nc = rows*cols # total number of carbon atoms\n",
    "Ne = Nc # total number of pi electrons\n",
    "\n",
    "graph = constructAdj(rows,cols)\n",
    "print(\"Number of Carbon atoms: \"+str(Nc))\n",
    "plt.matshow(graph)\n",
    "plt.show()"
   ]
  },
  {
   "cell_type": "code",
   "execution_count": 340,
   "metadata": {
    "collapsed": false
   },
   "outputs": [
    {
     "data": {
      "image/png": "[encoded data removed]",
      "text/plain": [
       "<matplotlib.figure.Figure at 0x110fe2a20>"
      ]
     },
     "metadata": {},
     "output_type": "display_data"
    }
   ],
   "source": [
    "# Calculate eigenvalues/eigenvectors and energy levels of graphene\n",
    "\n",
    "evalsGraph,evecsGraph = getEigs(graph)\n",
    "energies,occu = energyLevel(evalsGraph,Ne,name,show=True)"
   ]
  },
  {
   "cell_type": "code",
   "execution_count": 346,
   "metadata": {
    "collapsed": true
   },
   "outputs": [],
   "source": [
    "# Functions for drawing graphene lattice\n",
    "\n",
    "# determines sign of vertical increment\n",
    "# if i%2 == j%2 -> +dy\n",
    "# if i%2 != j%2 -> -dy\n",
    "def deltaY(i,j,dy): \n",
    "    if i%2 == j%2:\n",
    "        return dy\n",
    "    else:\n",
    "        return -dy\n",
    "\n",
    "# generate list of coordinates for each carbon\n",
    "def getCoords(rows,cols):\n",
    "    coords = np.zeros([rows*cols,2])\n",
    "    bl = 1 # arbitrary bond length\n",
    "    phi = np.pi / 6 # (30deg) angle of bond from horizontal\n",
    "    dx = bl*np.cos(phi) # increment in x direction along a row\n",
    "    dy = bl*np.sin(phi) # alternating +/- increment in y direction along each row\n",
    "    \n",
    "    # for odd row j, initial height  y0_j = y0_j-1 - bl\n",
    "    # for even row j, initial height y0_j = y0_j-1 - (bl + 2*dy)\n",
    "    # int(j%2 == 0) acts as \"switch\" for extra increment\n",
    "    for j in range(rows):\n",
    "        x = 0 # each row starts at x=0\n",
    "        y = coords[indexFind(0,j-1,rows,cols),1] - (bl + int(j%2 == 0)*2*dy)\n",
    "                \n",
    "        for i in range(cols):\n",
    "            cur = indexFind(i,j,rows,cols)\n",
    "            coords[cur,:] = x,y\n",
    "            x += dx\n",
    "            y += deltaY(i,j,dy)\n",
    "            \n",
    "    return coords\n",
    "\n",
    "# set colors for plotting\n",
    "# color p for positive, color n for negative\n",
    "def getColors(v,p,n):\n",
    "    colors = []\n",
    "    for i in range(v.size):\n",
    "        if v[i] > 0:\n",
    "            colors.append(p)\n",
    "        else:\n",
    "            colors.append(n)\n",
    "    return colors\n",
    "\n",
    "# determines euclidean distance between two atoms\n",
    "def dist(n1,n2,coords):\n",
    "    x1,y1 = coords[n1,:]\n",
    "    x2,y2 = coords[n2,:]\n",
    "    \n",
    "    return np.sqrt((x2-x1)**2 + (y2-y1)**2)\n",
    "\n",
    "# helper function for plotting a bond in the zigzag configurations\n",
    "# given two connected atoms and a their coordinates, \n",
    "# returns the coordinates of the line connecting them\n",
    "def bondZigZag(i,j,coords,bond,extr):\n",
    "    \n",
    "    if dist(i,j,coords) <= 1.1:  # adjacent bond\n",
    "        bond[1,:] = coords[j,:]\n",
    "    else: # \"wrap around\" bond\n",
    "        bond[1,1] = bond[0,1] # same y\n",
    "        if bond[0,0] == np.min(coords[:,0]): # left side\n",
    "            bond[1,0] = bond[0,0]-extr \n",
    "        else: # right side\n",
    "            bond[1,0] = bond[0,0]+extr\n",
    "    return bond\n",
    "    \n",
    "# helper function for plotting a bond in the armchair configurations\n",
    "# given two connected atoms and a their coordinates,\n",
    "# returns the coordinates of the line connecting them\n",
    "def bondArmchair(i,j,coords,bond,extr):\n",
    "    \n",
    "    if dist(i,j,coords) <= 1.1: # adjacent bond\n",
    "        bond[1,:] = coords[j,:]\n",
    "    else: # \"wrap around\" bond\n",
    "        bond[1,0] = bond[0,0] # same x\n",
    "        if bond[0,1] == np.max(coords[:,1]): # top\n",
    "            bond[1,1] = bond[0,1] + extr\n",
    "        else: # bottom\n",
    "            bond[1,1] = bond[0,1] - extr\n",
    "    return bond\n",
    "    \n",
    "# plot bonds between atoms\n",
    "# \n",
    "def bondPlot(graph,coords,zig,arm):\n",
    "    bond = np.zeros([2,2]) # [[x1 y1],[x2, y2]]\n",
    "    extr = 0.2 # length of bond showing periodic boundaries\n",
    "    \n",
    "    for i in range(graph.size[0]):\n",
    "        bond[0,:] = coords[i,:]\n",
    "        bonded = np.nonzero(graph[i,:])[0] # indices of bonded atoms\n",
    "        for j in bonded:\n",
    "            if graph[i,j]: # if atoms are bonded\n",
    "                if zig<arm: # if zigzag configuration\n",
    "                    bond = bondZigZag(i,j,coords,bond,extr)\n",
    "                    plt.plot(bond[:,0],bond[:,1],'k')\n",
    "                else: # armchair configuration\n",
    "                    bond = bondArmchair(i,j,coords,bond,extr)\n",
    "                    plt.plot(bond[:,1],bond[:,0],'k')\n",
    "                \n",
    "    return"
   ]
  },
  {
   "cell_type": "code",
   "execution_count": 348,
   "metadata": {
    "collapsed": false
   },
   "outputs": [
    {
     "ename": "TypeError",
     "evalue": "'int' object is not subscriptable",
     "output_type": "error",
     "traceback": [
      "\u001b[0;31m---------------------------------------------------------------------------\u001b[0m",
      "\u001b[0;31mTypeError\u001b[0m                                 Traceback (most recent call last)",
      "\u001b[0;32m<ipython-input-348-4f34edfc515d>\u001b[0m in \u001b[0;36m<module>\u001b[0;34m()\u001b[0m\n\u001b[1;32m     11\u001b[0m \u001b[0mplt\u001b[0m\u001b[0;34m.\u001b[0m\u001b[0mfigure\u001b[0m\u001b[0;34m(\u001b[0m\u001b[0mfigsize\u001b[0m\u001b[0;34m=\u001b[0m\u001b[0;34m(\u001b[0m\u001b[0;36m20\u001b[0m\u001b[0;34m,\u001b[0m\u001b[0;36m10\u001b[0m\u001b[0;34m)\u001b[0m\u001b[0;34m)\u001b[0m\u001b[0;34m\u001b[0m\u001b[0m\n\u001b[1;32m     12\u001b[0m \u001b[0;34m\u001b[0m\u001b[0m\n\u001b[0;32m---> 13\u001b[0;31m \u001b[0mbondPlot\u001b[0m\u001b[0;34m(\u001b[0m\u001b[0mgraph\u001b[0m\u001b[0;34m,\u001b[0m\u001b[0mcoords\u001b[0m\u001b[0;34m,\u001b[0m\u001b[0mzig\u001b[0m\u001b[0;34m,\u001b[0m\u001b[0marm\u001b[0m\u001b[0;34m)\u001b[0m\u001b[0;34m\u001b[0m\u001b[0m\n\u001b[0m\u001b[1;32m     14\u001b[0m \u001b[0;34m\u001b[0m\u001b[0m\n\u001b[1;32m     15\u001b[0m \u001b[0;32mif\u001b[0m \u001b[0mzig\u001b[0m \u001b[0;34m<\u001b[0m \u001b[0marm\u001b[0m\u001b[0;34m:\u001b[0m \u001b[0;31m# zigzag configuration\u001b[0m\u001b[0;34m\u001b[0m\u001b[0m\n",
      "\u001b[0;32m<ipython-input-346-7cfa4a0092a0>\u001b[0m in \u001b[0;36mbondPlot\u001b[0;34m(graph, coords, zig, arm)\u001b[0m\n\u001b[1;32m     87\u001b[0m     \u001b[0mextr\u001b[0m \u001b[0;34m=\u001b[0m \u001b[0;36m0.2\u001b[0m \u001b[0;31m# length of bond showing periodic boundaries\u001b[0m\u001b[0;34m\u001b[0m\u001b[0m\n\u001b[1;32m     88\u001b[0m \u001b[0;34m\u001b[0m\u001b[0m\n\u001b[0;32m---> 89\u001b[0;31m     \u001b[0;32mfor\u001b[0m \u001b[0mi\u001b[0m \u001b[0;32min\u001b[0m \u001b[0mrange\u001b[0m\u001b[0;34m(\u001b[0m\u001b[0mgraph\u001b[0m\u001b[0;34m.\u001b[0m\u001b[0msize\u001b[0m\u001b[0;34m[\u001b[0m\u001b[0;36m0\u001b[0m\u001b[0;34m]\u001b[0m\u001b[0;34m)\u001b[0m\u001b[0;34m:\u001b[0m\u001b[0;34m\u001b[0m\u001b[0m\n\u001b[0m\u001b[1;32m     90\u001b[0m         \u001b[0mbond\u001b[0m\u001b[0;34m[\u001b[0m\u001b[0;36m0\u001b[0m\u001b[0;34m,\u001b[0m\u001b[0;34m:\u001b[0m\u001b[0;34m]\u001b[0m \u001b[0;34m=\u001b[0m \u001b[0mcoords\u001b[0m\u001b[0;34m[\u001b[0m\u001b[0mi\u001b[0m\u001b[0;34m,\u001b[0m\u001b[0;34m:\u001b[0m\u001b[0;34m]\u001b[0m\u001b[0;34m\u001b[0m\u001b[0m\n\u001b[1;32m     91\u001b[0m         \u001b[0mbonded\u001b[0m \u001b[0;34m=\u001b[0m \u001b[0mnp\u001b[0m\u001b[0;34m.\u001b[0m\u001b[0mnonzero\u001b[0m\u001b[0;34m(\u001b[0m\u001b[0mgraph\u001b[0m\u001b[0;34m[\u001b[0m\u001b[0mi\u001b[0m\u001b[0;34m,\u001b[0m\u001b[0;34m:\u001b[0m\u001b[0;34m]\u001b[0m\u001b[0;34m)\u001b[0m\u001b[0;34m[\u001b[0m\u001b[0;36m0\u001b[0m\u001b[0;34m]\u001b[0m \u001b[0;31m# indices of bonded atoms\u001b[0m\u001b[0;34m\u001b[0m\u001b[0m\n",
      "\u001b[0;31mTypeError\u001b[0m: 'int' object is not subscriptable"
     ]
    }
   ],
   "source": [
    "# Visualize graphene eigenstates\n",
    "\n",
    "level = 10 # select energy level\n",
    "coords = getCoords(rows,cols)\n",
    "\n",
    "weights = 8000*np.abs(evecsGraph[:,level-1]) # weighting values for scatter plot\n",
    "p = 'b' # color for positive values\n",
    "n = 'r' # color for negative values\n",
    "colors = getColors(evecsGraph[:,level-1],p,n)\n",
    "\n",
    "plt.figure(figsize=(20,10))\n",
    "\n",
    "bondPlot(graph,coords,zig,arm)              \n",
    "\n",
    "if zig < arm: # zigzag configuration\n",
    "    config = \"Zigzag\"\n",
    "    plt.scatter(coords[:,0],coords[:,1],s=weights,c=colors)\n",
    "else: # armchair configuration\n",
    "    config = \"Armchair\"\n",
    "    plt.scatter(coords[:,1],coords[:,0],s=weights,c=colors)\n",
    "\n",
    "plt.axes().set_aspect('equal')\n",
    "plt.gca().get_xaxis().set_visible(False)\n",
    "plt.gca().get_yaxis().set_visible(False)\n",
    "plt.title(r\"Graphene in $N^{th}$ Eigenstate of \"+config+\" Configuration, N=\"+str(level)+\" E=\"+str(evalsGraph[level-1]))\n",
    "plt.savefig(\"figures/\"+name+\"N=\"+str(level)+\".png\")\n",
    "plt.show()"
   ]
  },
  {
   "cell_type": "code",
   "execution_count": null,
   "metadata": {
    "collapsed": false
   },
   "outputs": [],
   "source": []
  },
  {
   "cell_type": "code",
   "execution_count": null,
   "metadata": {
    "collapsed": true
   },
   "outputs": [],
   "source": []
  }
 ],
 "metadata": {
  "kernelspec": {
   "display_name": "Python 3",
   "language": "python",
   "name": "python3"
  },
  "language_info": {
   "codemirror_mode": {
    "name": "ipython",
    "version": 3
   },
   "file_extension": ".py",
   "mimetype": "text/x-python",
   "name": "python",
   "nbconvert_exporter": "python",
   "pygments_lexer": "ipython3",
   "version": "3.6.0"
  }
 },
 "nbformat": 4,
 "nbformat_minor": 2
}
